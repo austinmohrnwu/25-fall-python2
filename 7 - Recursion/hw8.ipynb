{
 "cells": [
  {
   "cell_type": "markdown",
   "id": "ec705d55",
   "metadata": {},
   "source": [
    "**Mergesort**\n",
    "\n",
    "- Write a function called mergesort that takes a list of integers as input. The function should sort the input list in ascending order according to the recursive mergesort algorithm and return it (see pseudocode and visualization below). You may modify the user's input or return a copy - your choice.\n",
    "\n",
    " \n",
    "\n",
    "**Recursive Selection Sort**\n",
    "\n",
    "- We can think of selection sort recursively in the following way (let's focus only on ascending order):\n",
    "\n",
    "- Identify the largest element of the array.*\n",
    "- Recursively sort the remaining elements of the array (by calling selection sort again on just this portion).\n",
    "- Concatenate (+ operator in Python) the recursively sorted portion on the left and the single largest element on the right.\n",
    "- Write a function called selection_recursive that takes a list of integers as input. The function should sort the input list in ascending order according to the recursive selection sort algorithm described above and return it. You may modify the user's input or return a copy - your choice. Begin with a pseudocode implementation.\n",
    "\n",
    " \n",
    "\n",
    "**Submission**\n",
    "\n",
    "- Export your notebook containing code, pseudocode (for selection_recursive), and the output of the following test cases:\n",
    "\n",
    "mergesort([6, 5, 5, 7, 4, 8, 3, 5, 1, 2, 9]) returns [1, 2, 3, 4, 5, 5, 5, 6, 7, 8, 9]\n",
    "\n",
    "selection_recursive([6, 5, 5, 7, 4, 8, 3, 5, 1, 2, 9]) returns [1, 2, 3, 4, 5, 5, 5, 6, 7, 8, 9]\n"
   ]
  },
  {
   "cell_type": "code",
   "execution_count": 18,
   "id": "f674dfb6",
   "metadata": {},
   "outputs": [],
   "source": [
    "def mergesort(lst):\n",
    "    lst_copy = lst.copy()\n",
    "    if len(lst_copy) <= 1:\n",
    "        return lst_copy\n",
    "    else:\n",
    "        first = lst_copy.pop(0)\n",
    "        small = list()\n",
    "        big = list()\n",
    "    while lst_copy:\n",
    "        thing = lst_copy.pop(0)\n",
    "        if thing < first:\n",
    "            small.append(thing)\n",
    "        else:\n",
    "            big.append(thing)\n",
    "    return mergesort(small) + [first] + mergesort(big)"
   ]
  },
  {
   "cell_type": "code",
   "execution_count": 21,
   "id": "a7f2e101",
   "metadata": {},
   "outputs": [
    {
     "data": {
      "text/plain": [
       "[1, 2, 3, 4, 5, 5, 5, 6, 7, 8, 9]"
      ]
     },
     "execution_count": 21,
     "metadata": {},
     "output_type": "execute_result"
    }
   ],
   "source": [
    "mergesort([6, 5, 5, 7, 4, 8, 3, 5, 1, 2, 9])"
   ]
  },
  {
   "cell_type": "markdown",
   "id": "9f915b52",
   "metadata": {},
   "source": [
    "pseudocode:\n",
    "```\n",
    "selection_recursive function call w parameter array\n",
    "    if the length is 1\n",
    "        return array\n",
    "    else\n",
    "        find the minimum in array and remove it\n",
    "        return the minimum concatanated with the selection_recursive function call on array\n",
    "```"
   ]
  },
  {
   "cell_type": "code",
   "execution_count": 78,
   "id": "e7dfb496",
   "metadata": {},
   "outputs": [],
   "source": [
    "def selection_recursive(arr):\n",
    "    \n",
    "    # if only one element left in arr, return arr\n",
    "    if len(arr) == 1:\n",
    "        return arr\n",
    "\n",
    "    # else, recursive sort\n",
    "    else:\n",
    "        minimum = min(arr)\n",
    "        arr.remove(minimum)\n",
    "        return [minimum] + selection_recursive(arr)"
   ]
  },
  {
   "cell_type": "code",
   "execution_count": 79,
   "id": "357f6af0",
   "metadata": {},
   "outputs": [
    {
     "data": {
      "text/plain": [
       "[1, 2, 3, 4, 5, 5, 5, 6, 7, 8, 9]"
      ]
     },
     "execution_count": 79,
     "metadata": {},
     "output_type": "execute_result"
    }
   ],
   "source": [
    "selection_recursive([6, 5, 5, 7, 4, 8, 3, 5, 1, 2, 9])"
   ]
  }
 ],
 "metadata": {
  "kernelspec": {
   "display_name": "Python 3",
   "language": "python",
   "name": "python3"
  },
  "language_info": {
   "codemirror_mode": {
    "name": "ipython",
    "version": 3
   },
   "file_extension": ".py",
   "mimetype": "text/x-python",
   "name": "python",
   "nbconvert_exporter": "python",
   "pygments_lexer": "ipython3",
   "version": "3.12.1"
  }
 },
 "nbformat": 4,
 "nbformat_minor": 5
}
