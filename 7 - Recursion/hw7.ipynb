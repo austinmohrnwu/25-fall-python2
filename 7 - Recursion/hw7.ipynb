{
 "cells": [
  {
   "cell_type": "markdown",
   "id": "124deb2f",
   "metadata": {},
   "source": [
    "Write a function colored_blocks that takes an integer \n",
    " as input and returns the number of ways to tile a row measuring \n",
    " units according to the rules on Project Euler #117Links to an external site..\n",
    "A tiling either begins with a black tile, a red tile, a green tile, or a blue tile. Use this observation to construct a recurrence relation (see the binary string example).\n",
    "Memoize your function as in the example code. Initialize your memo with the appropriate number of base cases (see the Fibonacci and binary string examples).\n",
    "Your function is only calculating the number of ways the tiles can be arranged. This can be accomplished with your recurrence relation alone. You do not need to model the actual composition of the tilings (e.g., Grey, Green, Red) anywhere in your function.\n",
    "The Stirling Numbers of the Second KindLinks to an external site. is a sequence of numbers satisfying the following two-variable recurrence relation: for \n",
    ". Write a function stirling2 that takes \n",
    " and \n",
    " as inputs and returns the value of \n",
    ". \n",
    "In case you are interested, the value of \n",
    " is the number of ways to place \n",
    " labeled balls into \n",
    " unlabeled boxes. \"Labeled\" means that the balls can be distinguished from one another (perhaps they are labeled from 1 up to \n",
    "), while the \"unlabeled\" boxes are all identical cardboard boxes that cannot be distinguished from one another.\n",
    "Useful base cases are \n",
    " for all \n",
    " and \n",
    " for all \n",
    ". (Does this seem reasonable in light of the previous bullet point?) Consider using a for loop to load your memo with all the needed base cases the first time your function gets called. As an example, if your initial input is stirling2(5, 4), then you could load the dictionary with the base cases for: (1, 1), (2, 1), (3, 1), (4, 1), (5, 1), (2, 2), (3, 3), (4, 4). You can see how to check whether a dictionary is empty in the example on Github, which will allow you to detect whether this is the first time the function has been called.\n",
    "Consider using tuples as the keys in your memo dictionary (e.g., the key-value pair (3,3) : 1 represents \n",
    ").\n",
    "Export your notebook to HTML. You do not need to include pseudocode. It should contain the output of the following test cases:\n",
    "colored_blocks(50) = 100808458960497\n",
    "stirling2(10, 5) = 42525\n"
   ]
  },
  {
   "cell_type": "code",
   "execution_count": 6,
   "id": "5b1994ef",
   "metadata": {},
   "outputs": [],
   "source": [
    "known_blocks = {1: 1, 2: 2, 3: 4, 4: 8}\n",
    "def colored_blocks(n):\n",
    "    global known_blocks\n",
    "    if n in known_blocks:\n",
    "        return known_blocks[n]\n",
    "    else:\n",
    "        block_n = colored_blocks(n - 1) + colored_blocks(n - 2) + colored_blocks(n - 3) + colored_blocks(n - 4)\n",
    "        known_blocks[n] = block_n\n",
    "        return block_n"
   ]
  },
  {
   "cell_type": "code",
   "execution_count": 7,
   "id": "0aa7b007",
   "metadata": {},
   "outputs": [
    {
     "data": {
      "text/plain": [
       "100808458960497"
      ]
     },
     "execution_count": 7,
     "metadata": {},
     "output_type": "execute_result"
    }
   ],
   "source": [
    "colored_blocks(50)"
   ]
  },
  {
   "cell_type": "code",
   "execution_count": 8,
   "id": "0f4084e7",
   "metadata": {},
   "outputs": [],
   "source": [
    "def known_dict(n,k):\n",
    "    known_nums = {}\n",
    "    for k in range(1,k+1):\n",
    "        known_nums[(k,k)] = 1\n",
    "    for n in range(1,n+1):\n",
    "        known_nums[(n,1)] = 1\n",
    "    return known_nums"
   ]
  },
  {
   "cell_type": "code",
   "execution_count": 13,
   "id": "d397d9fe",
   "metadata": {},
   "outputs": [
    {
     "data": {
      "text/plain": [
       "{(1, 1): 1,\n",
       " (2, 2): 1,\n",
       " (3, 3): 1,\n",
       " (4, 4): 1,\n",
       " (5, 5): 1,\n",
       " (2, 1): 1,\n",
       " (3, 1): 1,\n",
       " (4, 1): 1,\n",
       " (5, 1): 1,\n",
       " (6, 1): 1,\n",
       " (7, 1): 1,\n",
       " (8, 1): 1,\n",
       " (9, 1): 1,\n",
       " (10, 1): 1}"
      ]
     },
     "execution_count": 13,
     "metadata": {},
     "output_type": "execute_result"
    }
   ],
   "source": [
    "known_dict(10,5)"
   ]
  },
  {
   "cell_type": "code",
   "execution_count": 10,
   "id": "18b98754",
   "metadata": {},
   "outputs": [],
   "source": [
    "known_nums = {}"
   ]
  },
  {
   "cell_type": "code",
   "execution_count": 16,
   "id": "c98eb509",
   "metadata": {},
   "outputs": [],
   "source": [
    "def stirling2(n,k):\n",
    "    global known_nums\n",
    "    if not(known_nums):\n",
    "        known_nums = known_dict(n,k)\n",
    "    if (n,k) in known_nums:\n",
    "        return known_nums[(n,k)]\n",
    "    else:\n",
    "        stirling_nk = stirling2(n-1,k-1) + k * stirling2(n-1,k)\n",
    "        known_nums[(n,k)] = stirling_nk\n",
    "        return stirling_nk"
   ]
  },
  {
   "cell_type": "code",
   "execution_count": 17,
   "id": "0cf98fdc",
   "metadata": {},
   "outputs": [
    {
     "data": {
      "text/plain": [
       "42525"
      ]
     },
     "execution_count": 17,
     "metadata": {},
     "output_type": "execute_result"
    }
   ],
   "source": [
    "stirling2(10,5)"
   ]
  },
  {
   "cell_type": "code",
   "execution_count": null,
   "id": "f4989606",
   "metadata": {},
   "outputs": [],
   "source": []
  }
 ],
 "metadata": {
  "kernelspec": {
   "display_name": "Python 3",
   "language": "python",
   "name": "python3"
  },
  "language_info": {
   "codemirror_mode": {
    "name": "ipython",
    "version": 3
   },
   "file_extension": ".py",
   "mimetype": "text/x-python",
   "name": "python",
   "nbconvert_exporter": "python",
   "pygments_lexer": "ipython3",
   "version": "3.12.1"
  }
 },
 "nbformat": 4,
 "nbformat_minor": 5
}
