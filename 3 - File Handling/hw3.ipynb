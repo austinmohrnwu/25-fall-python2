{
 "cells": [
  {
   "cell_type": "markdown",
   "id": "c21280dd",
   "metadata": {},
   "source": [
    "Write a function anagrams(input_string) that takes a string as input and writes all anagrams of that string to a file, one per line. (An anagram is a word with the same number of each letter but in a different order.) To discover anagrams, scan words.txt line by line and compare (with ==) its histogram to the histogram of the input word. (You should use your histogram function from the previous class as a subroutine. Upload a screenshot of your code and the output file for the following test case:\n",
    "anagrams('pots') should write 'opts', 'post', 'pots', 'spot', 'stop', and 'tops' to the output file\n",
    "anagrams('resent') should write 'enters', 'rentes', 'ternes', 'nester', 'resent', and 'tenser' to the output file\n",
    "Write a function heteropalindromes() that returns all pairs of heteropalindromes in words.txt as a set of tuples without duplication (e.g., if your include ('pins', 'snip') in your list, do not also include ('snip', 'pins')). Do not include true palindromes (e.g., 'pop' is a true palindrome, since it is its own reverse). You may begin by reading the entire words.txt file into a set (this will be more time efficient than using a nested for loop to scan the text file). Next, scan the entire set. For each word, find its reverseLinks to an external site. and ask whether the reverse is also in the word set. After running the function, print the resulting set and take a screenshot of the initial portion (you likely won't be able to fit the entire thing on your screen)."
   ]
  },
  {
   "cell_type": "markdown",
   "id": "30a7a8f9",
   "metadata": {},
   "source": []
  }
 ],
 "metadata": {
  "language_info": {
   "name": "python"
  }
 },
 "nbformat": 4,
 "nbformat_minor": 5
}
