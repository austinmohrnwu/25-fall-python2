{
 "cells": [
  {
   "cell_type": "markdown",
   "id": "c21280dd",
   "metadata": {},
   "source": [
    "Write a function anagrams(input_string) that takes a string as input and writes all anagrams of that string to a file, one per line. (An anagram is a word with the same number of each letter but in a different order.) To discover anagrams, scan words.txt line by line and compare (with ==) its histogram to the histogram of the input word. (You should use your histogram function from the previous class as a subroutine. Upload a screenshot of your code and the output file for the following test case:\n",
    "\n",
    "anagrams('pots') should write 'opts', 'post', 'pots', 'spot', 'stop', and 'tops' to the output file\n",
    "anagrams('resent') should write 'enters', 'rentes', 'ternes', 'nester', 'resent', and 'tenser' to the output file"
   ]
  },
  {
   "cell_type": "code",
   "execution_count": 1,
   "id": "12df6750",
   "metadata": {},
   "outputs": [
    {
     "name": "stdout",
     "output_type": "stream",
     "text": [
      "Found 397 heteropalindrome pairs:\n",
      "==================================================\n",
      "abut - tuba\n",
      "ad - da\n",
      "ados - soda\n",
      "agar - raga\n",
      "agas - saga\n",
      "agenes - senega\n",
      "ah - ha\n",
      "aider - redia\n",
      "airts - stria\n",
      "ajar - raja\n",
      "alif - fila\n",
      "am - ma\n",
      "amen - nema\n",
      "amis - sima\n",
      "an - na\n",
      "anger - regna\n",
      "animal - lamina\n",
      "animes - semina\n",
      "anon - nona\n",
      "ante - etna\n",
      "\n",
      "Total heteropalindrome pairs found: 397\n",
      "Complete list written to 'heteropalindromes.txt'\n"
     ]
    }
   ],
   "source": [
    "def heteropalindromes():\n",
    "    \"\"\"Find all pairs of heteropalindromes in words.txt and return as a set of tuples.\"\"\"\n",
    "    \n",
    "    # Read all words from file into a set (case-insensitive)\n",
    "    with open('words.txt', 'r') as file:\n",
    "        word_set = {line.strip().lower() for line in file}\n",
    "    \n",
    "    # Find heteropalindrome pairs\n",
    "    hetero_pairs = set()\n",
    "    \n",
    "    for word in word_set:\n",
    "        reverse_word = word[::-1]  # Reverse the word\n",
    "        \n",
    "        # Check if reverse exists in set and it's not the same word (true palindrome)\n",
    "        if reverse_word in word_set and reverse_word != word:\n",
    "            # Create sorted tuple to avoid duplicates like ('pins', 'snip') and ('snip', 'pins')\n",
    "            pair = tuple(sorted([word, reverse_word]))\n",
    "            hetero_pairs.add(pair)\n",
    "    \n",
    "    return hetero_pairs\n",
    "\n",
    "# Run the function and print results\n",
    "if __name__ == \"__main__\":\n",
    "    hetero_pairs = heteropalindromes()\n",
    "    \n",
    "    print(f\"Found {len(hetero_pairs)} heteropalindrome pairs:\")\n",
    "    print(\"=\" * 50)\n",
    "    \n",
    "    # Print the first 20 pairs for demonstration\n",
    "    for i, pair in enumerate(sorted(hetero_pairs)):\n",
    "        if i < 20:  # Show first 20 pairs\n",
    "            print(f\"{pair[0]} - {pair[1]}\")\n",
    "        else:\n",
    "            break\n",
    "    \n",
    "    print(f\"\\nTotal heteropalindrome pairs found: {len(hetero_pairs)}\")\n",
    "    \n",
    "    # Optional: Write all pairs to a file\n",
    "    with open('heteropalindromes.txt', 'w') as f:\n",
    "        f.write(\"Heteropalindrome pairs found:\\n\")\n",
    "        f.write(\"=\" * 40 + \"\\n\")\n",
    "        for pair in sorted(hetero_pairs):\n",
    "            f.write(f\"{pair[0]} - {pair[1]}\\n\")\n",
    "    \n",
    "    print(\"Complete list written to 'heteropalindromes.txt'\")"
   ]
  },
  {
   "cell_type": "markdown",
   "id": "40041fb5",
   "metadata": {},
   "source": [
    "Write a function heteropalindromes() that returns all pairs of heteropalindromes in words.txt as a set of tuples without duplication (e.g., if your include ('pins', 'snip') in your list, do not also include ('snip', 'pins')). Do not include true palindromes (e.g., 'pop' is a true palindrome, since it is its own reverse). You may begin by reading the entire words.txt file into a set (this will be more time efficient than using a nested for loop to scan the text file). Next, scan the entire set. For each word, find its reverseLinks to an external site. and ask whether the reverse is also in the word set. After running the function, print the resulting set and take a screenshot of the initial portion (you likely won't be able to fit the entire thing on your screen).\n"
   ]
  },
  {
   "cell_type": "code",
   "execution_count": 5,
   "id": "221a0952",
   "metadata": {},
   "outputs": [
    {
     "name": "stdout",
     "output_type": "stream",
     "text": [
      "{('deeps', 'speed'), ('no', 'on'), ('gip', 'pig'), ('marcs', 'scram'), ('deliver', 'reviled'), ('looter', 'retool'), ('diaper', 'repaid'), ('pas', 'sap'), ('remeet', 'teemer'), ('dinar', 'ranid'), ('devas', 'saved'), ('map', 'pam'), ('spay', 'yaps'), ('smuts', 'stums'), ('eh', 'he'), ('an', 'na'), ('doom', 'mood'), ('agas', 'saga'), ('do', 'od'), ('drawer', 'reward'), ('neep', 'peen'), ('bard', 'drab'), ('anon', 'nona'), ('mho', 'ohm'), ('dom', 'mod'), ('cud', 'duc'), ('denim', 'mined'), ('meter', 'retem'), ('gal', 'lag'), ('leets', 'steel'), ('larum', 'mural'), ('agenes', 'senega'), ('hey', 'yeh'), ('reflow', 'wolfer'), ('tow', 'wot'), ('cod', 'doc'), ('maes', 'seam'), ('dorp', 'prod'), ('del', 'led'), ('deep', 'peed'), ('redips', 'spider'), ('swat', 'taws'), ('lair', 'rial'), ('derats', 'stared'), ('snit', 'tins'), ('cam', 'mac'), ('sloops', 'spools'), ('strow', 'worts'), ('defer', 'refed'), ('sprat', 'tarps'), ('sprits', 'stirps'), ('mot', 'tom'), ('hop', 'poh'), ('depot', 'toped'), ('gats', 'stag'), ('knaps', 'spank'), ('degami', 'imaged'), ('mat', 'tam'), ('bis', 'sib'), ('knits', 'stink'), ('bed', 'deb'), ('eros', 'sore'), ('em', 'me'), ('ray', 'yar'), ('peels', 'sleep'), ('lop', 'pol'), ('cares', 'serac'), ('brag', 'garb'), ('ante', 'etna'), ('loots', 'stool'), ('redes', 'seder'), ('dewans', 'snawed'), ('burg', 'grub'), ('bats', 'stab'), ('net', 'ten'), ('oot', 'too'), ('duo', 'oud'), ('nus', 'sun'), ('spit', 'tips'), ('stew', 'wets'), ('keep', 'peek'), ('pins', 'snip'), ('debut', 'tubed'), ('raw', 'war'), ('cram', 'marc'), ('selahs', 'shales'), ('swot', 'tows'), ('nu', 'un'), ('ad', 'da'), ('moor', 'room'), ('pets', 'step'), ('pay', 'yap'), ('auks', 'skua'), ('pacer', 'recap'), ('lees', 'seel'), ('aril', 'lira'), ('sallets', 'stellas'), ('bad', 'dab'), ('os', 'so'), ('sleets', 'steels'), ('raps', 'spar'), ('hahs', 'shah'), ('per', 'rep'), ('get', 'teg'), ('deer', 'reed'), ('may', 'yam'), ('elides', 'sedile'), ('dart', 'trad'), ('burd', 'drub'), ('gnat', 'tang'), ('bas', 'sab'), ('alif', 'fila'), ('lares', 'seral'), ('slit', 'tils'), ('way', 'yaw'), ('hoop', 'pooh'), ('fer', 'ref'), ('ates', 'seta'), ('pow', 'wop'), ('part', 'trap'), ('pis', 'sip'), ('tav', 'vat'), ('dessert', 'tressed'), ('lager', 'regal'), ('gas', 'sag'), ('repins', 'sniper'), ('rebut', 'tuber'), ('delf', 'fled'), ('levins', 'snivel'), ('girt', 'trig'), ('flow', 'wolf'), ('decal', 'laced'), ('bal', 'lab'), ('gnats', 'stang'), ('gnus', 'sung'), ('nip', 'pin'), ('edit', 'tide'), ('ergo', 'ogre'), ('dial', 'laid'), ('daw', 'wad'), ('demit', 'timed'), ('jar', 'raj'), ('saps', 'spas'), ('bus', 'sub'), ('pees', 'seep'), ('lit', 'til'), ('gat', 'tag'), ('draw', 'ward'), ('deke', 'eked'), ('ow', 'wo'), ('recaps', 'spacer'), ('buts', 'stub'), ('paws', 'swap'), ('amen', 'nema'), ('brad', 'darb'), ('pit', 'tip'), ('notes', 'seton'), ('keel', 'leek'), ('bin', 'nib'), ('dap', 'pad'), ('dirts', 'strid'), ('remit', 'timer'), ('denies', 'seined'), ('dahs', 'shad'), ('mon', 'nom'), ('agar', 'raga'), ('bos', 'sob'), ('sow', 'wos'), ('dormin', 'nimrod'), ('hales', 'selah'), ('mus', 'sum'), ('snaws', 'swans'), ('six', 'xis'), ('draws', 'sward'), ('emits', 'stime'), ('pot', 'top'), ('door', 'rood'), ('abut', 'tuba'), ('liar', 'rail'), ('dup', 'pud'), ('dim', 'mid'), ('hap', 'pah'), ('lotos', 'sotol'), ('got', 'tog'), ('dual', 'laud'), ('devil', 'lived'), ('bog', 'gob'), ('trow', 'wort'), ('eel', 'lee'), ('ate', 'eta'), ('guns', 'snug'), ('straw', 'warts'), ('now', 'won'), ('even', 'neve'), ('loom', 'mool'), ('evil', 'live'), ('pows', 'swop'), ('ho', 'oh'), ('dor', 'rod'), ('habus', 'subah'), ('dees', 'seed'), ('emir', 'rime'), ('poons', 'snoop'), ('nit', 'tin'), ('aider', 'redia'), ('emes', 'seme'), ('dew', 'wed'), ('neves', 'seven'), ('eviler', 'relive'), ('secret', 'terces'), ('bag', 'gab'), ('dah', 'had'), ('gnar', 'rang'), ('redraw', 'warder'), ('dialer', 'relaid'), ('knar', 'rank'), ('diols', 'sloid'), ('par', 'rap'), ('port', 'trop'), ('gan', 'nag'), ('bat', 'tab'), ('leer', 'reel'), ('mar', 'ram'), ('dexes', 'sexed'), ('avo', 'ova'), ('loons', 'snool'), ('airts', 'stria'), ('new', 'wen'), ('reknit', 'tinker'), ('puris', 'sirup'), ('skeets', 'steeks'), ('keels', 'sleek'), ('pals', 'slap'), ('rebus', 'suber'), ('snips', 'spins'), ('nos', 'son'), ('bots', 'stob'), ('maws', 'swam'), ('reknits', 'stinker'), ('bun', 'nub'), ('lever', 'revel'), ('etas', 'sate'), ('pupils', 'slipup'), ('duel', 'leud'), ('snoot', 'toons'), ('moot', 'toom'), ('skips', 'spiks'), ('dray', 'yard'), ('hay', 'yah'), ('don', 'nod'), ('mart', 'tram'), ('sit', 'tis'), ('rees', 'seer'), ('fool', 'loof'), ('dos', 'sod'), ('gum', 'mug'), ('gul', 'lug'), ('it', 'ti'), ('kay', 'yak'), ('snoops', 'spoons'), ('gums', 'smug'), ('mures', 'serum'), ('dot', 'tod'), ('desserts', 'stressed'), ('nolos', 'solon'), ('avid', 'diva'), ('relit', 'tiler'), ('nut', 'tun'), ('lion', 'noil'), ('amis', 'sima'), ('dig', 'gid'), ('cap', 'pac'), ('are', 'era'), ('pools', 'sloop'), ('dups', 'spud'), ('animal', 'lamina'), ('dedal', 'laded'), ('las', 'sal'), ('taw', 'wat'), ('scares', 'seracs'), ('reflet', 'telfer'), ('mir', 'rim'), ('big', 'gib'), ('sleeps', 'speels'), ('dog', 'god'), ('pans', 'snap'), ('staw', 'wats'), ('gut', 'tug'), ('bid', 'dib'), ('parts', 'strap'), ('res', 'ser'), ('gelder', 'redleg'), ('gar', 'rag'), ('enol', 'lone'), ('macs', 'scam'), ('pat', 'tap'), ('deem', 'meed'), ('lin', 'nil'), ('oohs', 'shoo'), ('ducs', 'scud'), ('snow', 'wons'), ('redrawer', 'rewarder'), ('ports', 'strop'), ('is', 'si'), ('drail', 'liard'), ('flog', 'golf'), ('loot', 'tool'), ('ados', 'soda'), ('edile', 'elide'), ('eat', 'tae'), ('paw', 'wap'), ('buns', 'snub'), ('seeks', 'skees'), ('arris', 'sirra'), ('am', 'ma'), ('gulp', 'plug'), ('spat', 'taps'), ('stows', 'swots'), ('naps', 'span'), ('gnaws', 'swang'), ('bows', 'swob'), ('mis', 'sim'), ('arum', 'mura'), ('spirt', 'trips'), ('dens', 'sned'), ('er', 're'), ('deifier', 'reified'), ('bals', 'slab'), ('derat', 'tared'), ('nuts', 'stun'), ('gals', 'slag'), ('leper', 'repel'), ('muts', 'stum'), ('sway', 'yaws'), ('ervil', 'livre'), ('ben', 'neb'), ('smart', 'trams'), ('stow', 'wots'), ('prat', 'tarp'), ('at', 'ta'), ('snaw', 'wans'), ('struts', 'sturts'), ('snaps', 'spans'), ('ajar', 'raja'), ('dels', 'sled'), ('rat', 'tar'), ('denier', 'reined'), ('depots', 'stoped'), ('pots', 'stop'), ('dam', 'mad'), ('spots', 'stops'), ('lobo', 'obol'), ('namer', 'reman'), ('loop', 'pool'), ('not', 'ton'), ('snot', 'tons'), ('tort', 'trot'), ('pols', 'slop'), ('ah', 'ha'), ('gam', 'mag'), ('bur', 'rub'), ('deil', 'lied'), ('nap', 'pan'), ('guls', 'slug'), ('bird', 'drib'), ('spot', 'tops'), ('ay', 'ya'), ('spirts', 'strips'), ('ban', 'nab'), ('rennet', 'tenner'), ('put', 'tup'), ('rot', 'tor'), ('dag', 'gad'), ('oat', 'tao'), ('loops', 'spool'), ('nips', 'spin'), ('sat', 'tas'), ('saw', 'was'), ('anger', 'regna'), ('meet', 'teem'), ('emit', 'time'), ('mils', 'slim'), ('gel', 'leg'), ('rats', 'star'), ('sports', 'strops'), ('bud', 'dub'), ('keets', 'steek'), ('fires', 'serif'), ('pus', 'sup'), ('but', 'tub'), ('tew', 'wet'), ('kips', 'spik'), ('animes', 'semina'), ('bins', 'snib'), ('ares', 'sera'), ('lap', 'pal'), ('sirs', 'sris')}\n"
     ]
    }
   ],
   "source": [
    "def histogram(string_list):\n",
    "    words = dict()\n",
    "    for word in string_list:\n",
    "        if word in words.keys():\n",
    "            count = words[word]\n",
    "            words.update({word:count+1})\n",
    "        else:\n",
    "            words.update({word:1})\n",
    "    return words\n",
    "\n",
    "def heteropalindromes():\n",
    "    # Read all words from file into a set\n",
    "    try:\n",
    "        file = open('words.txt', 'r')\n",
    "        all_words = set()\n",
    "        for line in file:\n",
    "            word = line.strip().lower()\n",
    "            if word:\n",
    "                all_words.add(word)\n",
    "        file.close()\n",
    "    except:\n",
    "        print(\"Error: words.txt file not found!\")\n",
    "        return set()\n",
    "    \n",
    "    # Find heteropalindromes\n",
    "    hetero_pairs = set()\n",
    "    \n",
    "    for word in all_words:\n",
    "        reverse_word = word[::-1]\n",
    "        \n",
    "        # Skip true palindromes\n",
    "        if word == reverse_word:\n",
    "            continue\n",
    "            \n",
    "        # Check if reverse exists in word set\n",
    "        if reverse_word in all_words:\n",
    "            # Use histogram to verify they have same letters\n",
    "            word_hist = histogram(list(word))\n",
    "            reverse_hist = histogram(list(reverse_word))\n",
    "            \n",
    "            if word_hist == reverse_hist:\n",
    "                pair = tuple(sorted([word, reverse_word]))\n",
    "                hetero_pairs.add(pair)\n",
    "    \n",
    "    return hetero_pairs\n",
    "\n",
    "# Run the function\n",
    "result = heteropalindromes()\n",
    "print(result)"
   ]
  }
 ],
 "metadata": {
  "kernelspec": {
   "display_name": "Python 3",
   "language": "python",
   "name": "python3"
  },
  "language_info": {
   "codemirror_mode": {
    "name": "ipython",
    "version": 3
   },
   "file_extension": ".py",
   "mimetype": "text/x-python",
   "name": "python",
   "nbconvert_exporter": "python",
   "pygments_lexer": "ipython3",
   "version": "3.12.1"
  }
 },
 "nbformat": 4,
 "nbformat_minor": 5
}
