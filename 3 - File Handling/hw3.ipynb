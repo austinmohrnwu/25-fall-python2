{
 "cells": [
  {
   "cell_type": "markdown",
   "id": "c21280dd",
   "metadata": {},
   "source": [
    "Write a function anagrams(input_string) that takes a string as input and writes all anagrams of that string to a file, one per line. (An anagram is a word with the same number of each letter but in a different order.) To discover anagrams, scan words.txt line by line and compare (with ==) its histogram to the histogram of the input word. (You should use your histogram function from the previous class as a subroutine. Upload a screenshot of your code and the output file for the following test case:\n",
    "\n",
    "anagrams('pots') should write 'opts', 'post', 'pots', 'spot', 'stop', and 'tops' to the output file\n",
    "anagrams('resent') should write 'enters', 'rentes', 'ternes', 'nester', 'resent', and 'tenser' to the output file"
   ]
  },
  {
   "cell_type": "markdown",
   "id": "c4bbf98e",
   "metadata": {},
   "source": [
    "### Lab 13 of python file"
   ]
  },
  {
   "cell_type": "code",
   "execution_count": null,
   "id": "1ee2d7c3",
   "metadata": {},
   "outputs": [],
   "source": [
    "def anagrams(input_string):\n",
    "    with open('words.txt', 'r') as read_file: # 'r' keyword indicates read-only\n",
    "        for line in read_file:\n",
    "            \n",
    "            with open('output.txt', 'w') as write_file: # 'w' keyword indicates writing\n",
    "\n",
    "             # loops over each line in the file\n",
    "\n",
    "                # Strip off all whitespace (in this case, the newline character)\n",
    "                line = line.strip()\n",
    "\n",
    "                write_file.write(line + '\\n')"
   ]
  },
  {
   "cell_type": "markdown",
   "id": "3c1aed4e",
   "metadata": {},
   "source": [
    "Write a function heteropalindromes() that returns all pairs of heteropalindromes in words.txt as a set of tuples without duplication (e.g., if your include ('pins', 'snip') in your list, do not also include ('snip', 'pins')). Do not include true palindromes (e.g., 'pop' is a true palindrome, since it is its own reverse). You may begin by reading the entire words.txt file into a set (this will be more time efficient than using a nested for loop to scan the text file). Next, scan the entire set. For each word, find its reverseLinks to an external site. and ask whether the reverse is also in the word set. After running the function, print the resulting set and take a screenshot of the initial portion (you likely won't be able to fit the entire thing on your screen)."
   ]
  },
  {
   "cell_type": "code",
   "execution_count": null,
   "id": "129b3897",
   "metadata": {},
   "outputs": [],
   "source": [
    "def heteropalidromes():\n",
    "    "
   ]
  }
 ],
 "metadata": {
  "kernelspec": {
   "display_name": "Python 3",
   "language": "python",
   "name": "python3"
  },
  "language_info": {
   "codemirror_mode": {
    "name": "ipython",
    "version": 3
   },
   "file_extension": ".py",
   "mimetype": "text/x-python",
   "name": "python",
   "nbconvert_exporter": "python",
   "pygments_lexer": "ipython3",
   "version": "3.12.1"
  }
 },
 "nbformat": 4,
 "nbformat_minor": 5
}
