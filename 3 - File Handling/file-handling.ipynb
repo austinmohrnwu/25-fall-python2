{
 "cells": [
  {
   "cell_type": "code",
   "execution_count": null,
   "metadata": {},
   "outputs": [],
   "source": [
    "# def file_demo(search_char):\n",
    "#     \"\"\"Demonstrates opening, reading from, and writing to files\n",
    "\n",
    "#     :param search_char: character to search for in each word\n",
    "#     :return: None (writes all words ending in search_char to file)\n",
    "#     \"\"\"\n",
    "\n",
    "#     # using \"with\" is the cleanest way to open a file\n",
    "#     # the file will automatically be closed when you exit this context\n",
    "#     with open('words.txt', 'r') as read_file: # 'r' keyword indicates read-only\n",
    "\n",
    "#         with open('output.txt', 'w') as write_file: # 'w' keyword indicates writing\n",
    "\n",
    "#             for line in read_file: # loops over each line in the file\n",
    "\n",
    "#                 # Strip off all whitespace (in this case, the newline character)\n",
    "#                 line = line.strip()\n",
    "\n",
    "#                 # If line ends with search_char, then print to file\n",
    "#                 # Manually reattach the newline character so we get one string per line\n",
    "#                 if line[-1] == search_char:\n",
    "#                     write_file.write(line + '\\n')"
   ]
  },
  {
   "cell_type": "code",
   "execution_count": null,
   "metadata": {},
   "outputs": [],
   "source": [
    "# file_demo('x')"
   ]
  },
  {
   "cell_type": "code",
   "execution_count": 20,
   "metadata": {},
   "outputs": [],
   "source": [
    "def histogram(string_list):\n",
    "    '''\n",
    "    Generates a dictionary with the frequency of each item in the given list\n",
    "\n",
    "    :param string_list: a list of strings\n",
    "    :return: a dictionary containing the items and frequency of each item in the list\n",
    "    '''\n",
    "\n",
    "    temp = dict()\n",
    "    for item in string_list:\n",
    "        if item not in temp.keys():\n",
    "            temp[item] = 1\n",
    "        else:\n",
    "            temp[item] += 1\n",
    "    return temp"
   ]
  },
  {
   "cell_type": "code",
   "execution_count": 21,
   "metadata": {},
   "outputs": [],
   "source": [
    "def anagrams(input_string):\n",
    "    '''\n",
    "    Generates all anagrams of given sequence of letters\n",
    "\n",
    "    :param input_string: word to search for all anagrams\n",
    "    :return: none, writes all anagrams of input_string to file\n",
    "    '''\n",
    "\n",
    "    with open('words.txt', 'r') as words:\n",
    "        with open('output.txt', 'w') as output:\n",
    "            for line in words:\n",
    "                word = line.strip()\n",
    "                \n",
    "                if histogram(input_string) == histogram(word):\n",
    "                    output.write(word + '\\n')\n",
    "    output.close()\n",
    "    words.close()"
   ]
  },
  {
   "cell_type": "code",
   "execution_count": 24,
   "metadata": {},
   "outputs": [],
   "source": [
    "anagrams('pots')"
   ]
  },
  {
   "cell_type": "code",
   "execution_count": 23,
   "metadata": {},
   "outputs": [],
   "source": [
    "anagrams('resent')"
   ]
  },
  {
   "cell_type": "code",
   "execution_count": 25,
   "metadata": {},
   "outputs": [],
   "source": [
    "def heteropalindromes():\n",
    "    '''\n",
    "    Generates a set with every unique heteropalindrome from a given file\n",
    "\n",
    "    :param none:\n",
    "    :return: the set of unique heteropalindromes\n",
    "    '''\n",
    "    with open('words.txt', 'r') as words:\n",
    "        words_set = set()\n",
    "        heteropalindromes = set()\n",
    "        for line in words:\n",
    "            words_set.add(line.strip())\n",
    "        for word in words_set:\n",
    "            if word[::-1] in words_set and word != word[::-1]:\n",
    "                heteropalindromes.add(word + ', ' + word[::-1])\n",
    "    words.close()\n",
    "    return heteropalindromes"
   ]
  },
  {
   "cell_type": "code",
   "execution_count": 26,
   "metadata": {},
   "outputs": [
    {
     "name": "stdout",
     "output_type": "stream",
     "text": [
      "{'sports, strops', 'dot, tod', 'daw, wad', 'marc, cram', 'stressed, desserts', 'mot, tom', 'tew, wet', 'spots, stops', 'emir, rime', 'gid, dig', 'nips, spin', 'slag, gals', 'jar, raj', 'pools, sloop', 'sib, bis', 'las, sal', 'lop, pol', 'solon, nolos', 'stool, loots', 'depot, toped', 'skua, auks', 'pah, hap', 'pam, map', 'darb, brad', 'ducs, scud', 'may, yam', 'si, is', 'degami, imaged', 'bal, lab', 'stows, swots', 'rebut, tuber', 'par, rap', 'lone, enol', 'not, ton', 'stops, spots', 'kips, spik', 'yar, ray', 'pot, top', 'raj, jar', 'spirt, trips', 'slab, bals', 'repel, leper', 'won, now', 'hahs, shah', 'macs, scam', 'sotol, lotos', 'stop, pots', 'tort, trot', 'cram, marc', 'amis, sima', 'too, oot', 'emit, time', 'recap, pacer', 'spans, snaps', 'big, gib', 'gelder, redleg', 'da, ad', 'del, led', 'sniper, repins', 'seam, maes', 'flow, wolf', 'dels, sled', 'refed, defer', 'brad, darb', 'map, pam', 'spider, redips', 'wons, snow', 'denim, mined', 'stoped, depots', 'os, so', 'spat, taps', 'lira, aril', 'bag, gab', 'trips, spirt', 'gnaws, swang', 'pas, sap', 'eked, deke', 'reward, drawer', 'gnar, rang', 'dormin, nimrod', 'tang, gnat', 'sned, dens', 'sore, eros', 'burg, grub', 'dewans, snawed', 'snip, pins', 'pit, tip', 'shoo, oohs', 'bird, drib', 'dirts, strid', 'rewarder, redrawer', 'wen, new', 'pis, sip', 'seer, rees', 'grub, burg', 'sim, mis', 'tag, gat', 'drail, liard', 'anon, nona', 'slug, guls', 'ranid, dinar', 'peen, neep', 'larum, mural', 'fer, ref', 'bots, stob', 'derats, stared', 'lees, seel', 'sleets, steels', 'era, are', 'steek, keets', 'tenner, rennet', 'even, neve', 'bus, sub', 'pol, lop', 'shad, dahs', 'muts, stum', 'mus, sum', 'rep, per', 'lin, nil', 'enol, lone', 'leek, keel', 'sirra, arris', 'teg, get', 'snug, guns', 'arum, mura', 'sip, pis', 'brag, garb', 'eat, tae', 'trop, port', 'star, rats', 'six, xis', 'desserts, stressed', 'elide, edile', 'guls, slug', 'tool, loot', 'spit, tips', 'oot, too', 'mir, rim', 'rat, tar', 'rial, lair', 'na, an', 'laced, decal', 'livre, ervil', 'snoops, spoons', 'animes, semina', 'mat, tam', 'spoons, snoops', 'wans, snaw', 'sloops, spools', 'alif, fila', 'gat, tag', 'golf, flog', 'saw, was', 'sate, etas', 'slop, pols', 'are, era', 'cap, pac', 'lever, revel', 'lap, pal', 'sima, amis', 'trams, smart', 'knits, stink', 'seton, notes', 'mho, ohm', 'spot, tops', 'etas, sate', 'serum, mures', 'mod, dom', 'dig, gid', 'lamina, animal', 'rood, door', 'tram, mart', 'straw, warts', 'nos, son', 'er, re', 'repaid, diaper', 'nu, un', 'snaw, wans', 'gnat, tang', 'tis, sit', 'aider, redia', 'snap, pans', 'rees, seer', 'ya, ay', 'is, si', 'repins, sniper', 'smuts, stums', 'dual, laud', 'tar, rat', 'smart, trams', 'nut, tun', 'me, em', 'tide, edit', 'loops, spool', 'stink, knits', 'room, moor', 'nip, pin', 'pans, snap', 'timed, demit', 'relit, tiler', 'dinar, ranid', 'poons, snoop', 'stirps, sprits', 'lager, regal', 'spirts, strips', 'ban, nab', 'tow, wot', 'lab, bal', 'stob, bots', 'til, lit', 'dag, gad', 'retool, looter', 'eta, ate', 'leg, gel', 'laded, dedal', 'timer, remit', 'dib, bid', 'taw, wat', 'ho, oh', 'semina, animes', 'speels, sleeps', 'subah, habus', 'avo, ova', 'redes, seder', 'serif, fires', 'sod, dos', 'seep, pees', 'fool, loof', 'gad, dag', 'trot, tort', 'gums, smug', 'vat, tav', 'swob, bows', 'mood, doom', 'gals, slag', 'yaw, way', 'deifier, reified', 'tun, nut', 'tuber, rebut', 'girt, trig', 'keels, sleek', 'bid, dib', 'pins, snip', 'rot, tor', 'aril, lira', 'time, emit', 'wolf, flow', 'pals, slap', 'tab, bat', 'bats, stab', 'secret, terces', 'sirs, sris', 'loom, mool', 'seven, neves', 'lived, devil', 'loop, pool', 'mag, gam', 'lobo, obol', 'sled, dels', 'dub, bud', 'dedal, laded', 'ma, am', 'slipup, pupils', 'snips, spins', 'tam, mat', 'skees, seeks', 'cud, duc', 'dialer, relaid', 'had, dah', 'diaper, repaid', 'lotos, sotol', 'mined, denim', 'pus, sup', 'seel, lees', 'sloop, pools', 'sag, gas', 'sloid, diols', 'saga, agas', 'span, naps', 'skeets, steeks', 'snivel, levins', 'rime, emir', 'fila, alif', 'dos, sod', 'gam, mag', 'telfer, reflet', 'dial, laid', 'live, evil', 'pad, dap', 'moot, toom', 'nil, lin', 'suber, rebus', 'dor, rod', 'paws, swap', 'stinker, reknits', 'imaged, degami', 'sum, mus', 'ervil, livre', 'hey, yeh', 'nona, anon', 'duel, leud', 'parts, strap', 'tuba, abut', 'ados, soda', 'avid, diva', 'snoot, toons', 'sung, gnus', 'pow, wop', 'mar, ram', 'loons, snool', 'dup, pud', 'bas, sab', 'mart, tram', 'stum, muts', 'reed, deer', 'lag, gal', 'deem, meed', 'tap, pat', 'sward, draws', 'yaws, sway', 'ton, not', 'rim, mir', 'snot, tons', 'pud, dup', 're, er', 'hoop, pooh', 'rebus, suber', 'gel, leg', 'oohs, shoo', 'mis, sim', 'gum, mug', 'rail, liar', 'retem, meter', 'pin, nip', 'gal, lag', 'gas, sag', 'devil, lived', 'strips, spirts', 'drab, bard', 'scares, seracs', 'seeks, skees', 'shah, hahs', 'leets, steel', 'trig, girt', 'port, trop', 'scam, macs', 'nit, tin', 'poh, hop', 'stow, wots', 'raps, spar', 'rats, star', 'flog, golf', 'lion, noil', 'yard, dray', 'stub, buts', 'dap, pad', 'deliver, reviled', 'pay, yap', 'auks, skua', 'obol, lobo', 'eel, lee', 'slim, mils', 'steels, sleets', 'wot, tow', 'strop, ports', 'don, nod', 'lied, deil', 'hales, selah', 'tub, but', 'rub, bur', 'serac, cares', 'keep, peek', 'strap, parts', 'god, dog', 'sleek, keels', 'tae, eat', 'snool, loons', 'at, ta', 'neb, ben', 'reflet, telfer', 'spiks, skips', 'steeks, skeets', 'no, on', 'bis, sib', 'rag, gar', 'raga, agar', 'reflow, wolfer', 'dees, seed', 'fled, delf', 'raja, ajar', 'skips, spiks', 'liard, drail', 'kay, yak', 'ow, wo', 'lares, seral', 'wolfer, reflow', 'swat, taws', 'nub, bun', 'bud, dub', 'pots, stop', 'ward, draw', 'snaps, spans', 'bard, drab', 'tins, snit', 'tinker, reknit', 'burd, drub', 'paw, wap', 'tubed, debut', 'gip, pig', 'loot, tool', 'wort, trow', 'war, raw', 'an, na', 'nod, don', 'reknits, stinker', 'ergo, ogre', 'saps, spas', 'gnats, stang', 'levins, snivel', 'ser, res', 'ha, ah', 'tared, derat', 'ares, sera', 'pows, swop', 'yaps, spay', 'nus, sun', 'tav, vat', 'od, do', 'eviler, relive', 'dexes, sexed', 'tarp, prat', 'terces, secret', 'way, yaw', 'stime, emits', 'denier, reined', 'oh, ho', 'mug, gum', 'bos, sob', 'pat, tap', 'on, no', 'tug, gut', 'relive, eviler', 'dab, bad', 'raw, war', 'mura, arum', 'stag, gats', 'yah, hay', 'gut, tug', 'tils, slit', 'fires, serif', 'rod, dor', 'mon, nom', 'ben, neb', 'garb, brag', 'tows, swot', 'yap, pay', 'sub, bus', 'ates, seta', 'xis, six', 'denies, seined', 'peek, keep', 'mac, cam', 'mures, serum', 'reman, namer', 'buts, stub', 'amen, nema', 'arris, sirra', 'snawed, dewans', 'sris, sirs', 'selahs, shales', 'meed, deem', 'teemer, remeet', 'nema, amen', 'neve, even', 'mural, larum', 'drub, burd', 'relaid, dialer', 'part, trap', 'revel, lever', 'ante, etna', 'mad, dam', 'rang, gnar', 'seined, denies', 'tarps, sprat', 'bun, nub', 'swang, gnaws', 'ogre, ergo', 'redia, aider', 'cod, doc', 'evil, live', 'dessert, tressed', 'scram, marcs', 'gib, big', 'sun, nus', 'lug, gul', 'agas, saga', 'stria, airts', 'reined, denier', 'wap, paw', 'airts, stria', 'steel, leets', 'selah, hales', 'laud, dual', 'pac, cap', 'regna, anger', 'stang, gnats', 'toom, moot', 'prat, tarp', 'stellas, sallets', 'deep, peed', 'notes, seton', 'spank, knaps', 'sleeps, speels', 'shales, selahs', 'gulp, plug', 'tons, snot', 'toons, snoot', 'meet, teem', 'ohm, mho', 'leud, duel', 'sturts, struts', 'wos, sow', 'dog, god', 'wats, staw', 'edit, tide', 'sleep, peels', 'tup, put', 'reel, leer', 'depots, stoped', 'wad, daw', 'pees, seep', 'drawer, reward', 'liar, rail', 'ajar, raja', 'seral, lares', 'swans, snaws', 'maes, seam', 'gab, bag', 'warder, redraw', 'sab, bas', 'staw, wats', 'nimrod, dormin', 'spas, saps', 'pal, lap', 'agar, raga', 'but, tub', 'led, del', 'ay, ya', 'gnus, sung', 'sup, pus', 'keel, leek', 'trad, dart', 'tiler, relit', 'diva, avid', 'tod, dot', 'loots, stool', 'reknit, tinker', 'drib, bird', 'naps, span', 'step, pets', 'stew, wets', 'bin, nib', 'ray, yar', 'neep, peen', 'snoop, poons', 'nuts, stun', 'swap, paws', 'pets, step', 'new, wen', 'saved, devas', 'meter, retem', 'hay, yah', 'defer, refed', 'cares, serac', 'sexed, dexes', 'seracs, scares', 'peels, sleep', 'bals, slab', 'struts, sturts', 'so, os', 'debut, tubed', 'spin, nips', 'animal, lamina', 'ova, avo', 'yam, may', 'bins, snib', 'draw, ward', 'taps, spat', 'emits, stime', 'knar, rank', 'mid, dim', 'hap, pah', 'redraw, warder', 'bur, rub', 'buns, snub', 'door, rood', 'draws, sward', 'snub, buns', 'nolos, solon', 'sway, yaws', 'swots, stows', 'pan, nap', 'marcs, scram', 'pool, loop', 'duo, oud', 'doom, mood', 'sob, bos', 'smug, gums', 'neves, seven', 'do, od', 'seed, dees', 'nom, mon', 'deer, reed', 'spar, raps', 'ate, eta', 'it, ti', 'now, won', 'dahs, shad', 'puris, sirup', 'soda, ados', 'peed, deep', 'dah, had', 'ref, fer', 'snit, tins', 'seta, ates', 'nag, gan', 'seme, emes', 'plug, gulp', 'redrawer, rewarder', 'derat, tared', 'swam, maws', 'redleg, gelder', 'hop, poh', 'gob, bog', 'tip, pit', 'remit, timer', 'swot, tows', 'get, teg', 'ti, it', 'sit, tis', 'tor, rot', 'spud, dups', 'un, nu', 'swop, pows', 'nib, bin', 'loof, fool', 'leer, reel', 'wop, pow', 'recaps, spacer', 'knaps, spank', 'dups, spud', 'he, eh', 'wat, taw', 'demit, timed', 'reviled, deliver', 'son, nos', 'prod, dorp', 'rank, knar', 'dorp, prod', 'pacer, recap', 'ta, at', 'snib, bins', 'teem, meet', 'laid, dial', 'stums, smuts', 'snow, wons', 'got, tog', 'strow, worts', 'slit, tils', 'stab, bats', 'net, ten', 'spool, loops', 'sprat, tarps', 'bog, gob', 'em, me', 'worts, strow', 'dart, trad', 'pig, gip', 'speed, deeps', 'habus, subah', 'spacer, recaps', 'tog, got', 'anger, regna', 'regal, lager', 'remeet, teemer', 'stun, nuts', 'namer, reman', 'tin, nit', 'strops, sports', 'tops, spot', 'stared, derats', 'leper, repel', 'ram, mar', 'gan, nag', 'looter, retool', 'rap, par', 'wet, tew', 'tressed, dessert', 'tas, sat', 'sow, wos', 'dom, mod', 'edile, elide', 'bat, tab', 'toped, depot', 'deb, bed', 'wo, ow', 'gar, rag', 'etna, ante', 'spay, yaps', 'diols, sloid', 'dam, mad', 'top, pot', 'senega, agenes', 'sal, las', 'warts, straw', 'snaws, swans', 'wets, stew', 'abut, tuba', 'pols, slop', 'sap, pas', 'guns, snug', 'spins, snips', 'trow, wort', 'slap, pals', 'cam, mac', 'elides, sedile', 'seder, redes', 'ten, net', 'scud, ducs', 'devas, saved', 'duc, cud', 'delf, fled', 'redips, spider', 'moor, room', 'eh, he', 'sprits, stirps', 'pupils, slipup', 'eros, sore', 'trap, part', 'sedile, elides', 'decal, laced', 'sat, tas', 'wots, stow', 'lee, eel', 'spik, kips', 'sera, ares', 'nab, ban', 'dray, yard', 'bed, deb', 'gats, stag', 'deeps, speed', 'bows, swob', 'res, ser', 'noil, lion', 'reified, deifier', 'tips, spit', 'lit, til', 'tao, oat', 'per, rep', 'sallets, stellas', 'lair, rial', 'was, saw', 'taws, swat', 'keets, steek', 'nap, pan', 'agenes, senega', 'deil, lied', 'dens, sned', 'yeh, hey', 'tom, mot', 'oud, duo', 'yak, kay', 'oat, tao', 'maws, swam', 'emes, seme', 'strid, dirts', 'deke, eked', 'ad, da', 'dew, wed', 'rennet, tenner', 'doc, cod', 'spools, sloops', 'ports, strop', 'am, ma', 'mool, loom', 'sirup, puris', 'put, tup', 'wed, dew', 'mils, slim', 'gul, lug', 'bad, dab', 'ah, ha', 'pooh, hoop', 'dim, mid'}\n"
     ]
    }
   ],
   "source": [
    "print(heteropalindromes())"
   ]
  }
 ],
 "metadata": {
  "kernelspec": {
   "display_name": "Python 3",
   "language": "python",
   "name": "python3"
  },
  "language_info": {
   "codemirror_mode": {
    "name": "ipython",
    "version": 3
   },
   "file_extension": ".py",
   "mimetype": "text/x-python",
   "name": "python",
   "nbconvert_exporter": "python",
   "pygments_lexer": "ipython3",
   "version": "3.12.1"
  }
 },
 "nbformat": 4,
 "nbformat_minor": 2
}
