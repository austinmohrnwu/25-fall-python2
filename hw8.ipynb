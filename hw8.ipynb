{
 "cells": [
  {
   "cell_type": "markdown",
   "id": "ec705d55",
   "metadata": {},
   "source": [
    "**Mergesort**\n",
    "\n",
    "- Write a function called mergesort that takes a list of integers as input. The function should sort the input list in ascending order according to the recursive mergesort algorithm and return it (see pseudocode and visualization below). You may modify the user's input or return a copy - your choice.\n",
    "\n",
    " \n",
    "\n",
    "**Recursive Selection Sort**\n",
    "\n",
    "- We can think of selection sort recursively in the following way (let's focus only on ascending order):\n",
    "\n",
    "- Identify the largest element of the array.*\n",
    "- Recursively sort the remaining elements of the array (by calling selection sort again on just this portion).\n",
    "- Concatenate (+ operator in Python) the recursively sorted portion on the left and the single largest element on the right.\n",
    "- Write a function called selection_recursive that takes a list of integers as input. The function should sort the input list in ascending order according to the recursive selection sort algorithm described above and return it. You may modify the user's input or return a copy - your choice. Begin with a pseudocode implementation.\n",
    "\n",
    " \n",
    "\n",
    "**Submission**\n",
    "\n",
    "- Export your notebook containing code, pseudocode (for selection_recursive), and the output of the following test cases:\n",
    "\n",
    "mergesort([6, 5, 5, 7, 4, 8, 3, 5, 1, 2, 9]) returns [1, 2, 3, 4, 5, 5, 5, 6, 7, 8, 9]\n",
    "\n",
    "selection_recursive([6, 5, 5, 7, 4, 8, 3, 5, 1, 2, 9]) returns [1, 2, 3, 4, 5, 5, 5, 6, 7, 8, 9]\n"
   ]
  },
  {
   "cell_type": "code",
   "execution_count": 10,
   "id": "f674dfb6",
   "metadata": {},
   "outputs": [],
   "source": [
    "def mergesort(lst):\n",
    "    lst_copy = lst\n",
    "    pass"
   ]
  },
  {
   "cell_type": "code",
   "execution_count": 13,
   "id": "e7dfb496",
   "metadata": {},
   "outputs": [],
   "source": [
    "def selection_recursive(arr):\n",
    "    pass"
   ]
  },
  {
   "cell_type": "code",
   "execution_count": 14,
   "id": "357f6af0",
   "metadata": {},
   "outputs": [],
   "source": [
    "mergesort([6, 5, 5, 7, 4, 8, 3, 5, 1, 2, 9])\n",
    "selection_recursive([6, 5, 5, 7, 4, 8, 3, 5, 1, 2, 9])"
   ]
  }
 ],
 "metadata": {
  "kernelspec": {
   "display_name": "Python 3",
   "language": "python",
   "name": "python3"
  },
  "language_info": {
   "codemirror_mode": {
    "name": "ipython",
    "version": 3
   },
   "file_extension": ".py",
   "mimetype": "text/x-python",
   "name": "python",
   "nbconvert_exporter": "python",
   "pygments_lexer": "ipython3",
   "version": "3.12.1"
  }
 },
 "nbformat": 4,
 "nbformat_minor": 5
}
