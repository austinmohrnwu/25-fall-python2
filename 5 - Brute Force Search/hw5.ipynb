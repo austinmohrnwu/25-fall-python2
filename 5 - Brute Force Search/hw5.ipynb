{
 "cells": [
  {
   "cell_type": "markdown",
   "id": "009cb5c1",
   "metadata": {},
   "source": [
    "For the two programs below, begin by writing pseudocode first, then implement your solution. Put your pseudocode in a markdown cell in the same notebook as your implementation.\n",
    "\n",
    "A palindromic product is the product of two integers that reads the same forward and backward. The largest palindromic product that is the product of two two-digit factors is 9009 (which is the product 91 * 99). Write a function called palindromic_product that  takes a positive integer n as input and returns the largest palindromic product that is the product of two properly n-digit factors.\n",
    "Multiplication is commutative (i.e., the order of the factors is irrelevant). Use this observation to reduce your search space. For example, your implementation should avoid checking both 13 * 58 and 58 * 13.\n",
    "Include both lower and upper bounds on your factors. In the two-digit case, for example, the smallest product to check is 10 * 10 and the largest is 99 * 99. Use this observation to reduce your search space.\n",
    "Your \"test\" in this \"generate and test\" is to check whether a given product is a palindrome. Put this test in a separate auxiliary function that only checks whether an input is a palindrome. You will find it useful to turn the integer into a string using the str() function (e.g., str(9009) returns the string '9009').\n",
    "Write a function called primes_list that takes a positive integer n as input and returns a list of all primes less than or equal to n. (Note that 1 is not a prime.)\n",
    "An integer is prime precisely when it is divisible by no primes strictly smaller than itself. For example, to test whether 17 is prime, we would only need to examine whether it is divisible by 2, 3, 5, 7, 11, and 13. Use this observation to reduce your search space.\n",
    "We could use the same list as in the previous bullet point to test whether 16 is prime, but the algorithm should notice immediately that it is divisible by 2 and not check any further. Use this observation to reduce the number of tests your algorithm performs.\n",
    "Include the output of the following test cases:\n",
    "palindromic_product(3) returns 906609\n",
    "primes_list(19) returns the list [2, 3, 5, 7, 11, 13, 17, 19]"
   ]
  },
  {
   "cell_type": "markdown",
   "id": "c1f5f240",
   "metadata": {},
   "source": [
    "FUNCTION is_palindrome(num):\n",
    "    Convert num to string\n",
    "    RETURN string == reversed string\n",
    "FUNCTION palindromic_product(n):\n",
    "    lower_bound = 10^(n-1)\n",
    "    upper_bound = 10^n - 1\n",
    "    max_palindrome = 0\n",
    "    FOR i FROM upper_bound DOWN TO lower_bound:\n",
    "        FOR j FROM i DOWN TO lower_bound:  // Avoid checking both i*j and j*i\n",
    "            product = i * j\n",
    "            IF product <= max_palindrome:\n",
    "                BREAK  // No need to check smaller j values\n",
    "            IF is_palindrome(product):\n",
    "                max_palindrome = product\n",
    "    RETURN max_palindrome"
   ]
  },
  {
   "cell_type": "code",
   "execution_count": 1,
   "id": "24aa883f",
   "metadata": {},
   "outputs": [],
   "source": [
    "def is_palindrome(num):\n",
    "    \"\"\"\n",
    "    check if a number is a palindrome.\n",
    "    \"\"\"\n",
    "    num_str = str(num)\n",
    "    return num_str == num_str[::-1]\n",
    "\n",
    "def palindromic_product(n):\n",
    "    \"\"\"\n",
    "    find the largest palindromic product of two n-digit numbers.\n",
    "    \"\"\"\n",
    "    lower_bound = 10**(n-1)\n",
    "    upper_bound = 10**n - 1\n",
    "    max_palindrome = 0\n",
    "    for i in range(upper_bound, lower_bound - 1, -1):\n",
    "        # If i^2 < current max, no need to continue\n",
    "        if i * i < max_palindrome:\n",
    "            break\n",
    "        for j in range(i, lower_bound - 1, -1):\n",
    "            product = i * j\n",
    "            # Early termination: if product is smaller than current max, break\n",
    "            if product <= max_palindrome:\n",
    "                break\n",
    "            if is_palindrome(product):\n",
    "                max_palindrome = product\n",
    "    return max_palindrome"
   ]
  },
  {
   "cell_type": "code",
   "execution_count": 5,
   "id": "ac6139c9",
   "metadata": {},
   "outputs": [
    {
     "data": {
      "text/plain": [
       "906609"
      ]
     },
     "execution_count": 5,
     "metadata": {},
     "output_type": "execute_result"
    }
   ],
   "source": [
    "palindromic_product(3)"
   ]
  },
  {
   "cell_type": "markdown",
   "id": "d0d2b4d0",
   "metadata": {},
   "source": [
    "FUNCTION primes_list(n):\n",
    "    IF n < 2:\n",
    "        RETURN empty list\n",
    "    primes = [2]\n",
    "    FOR candidate FROM 3 TO n (step 2, since even numbers > 2 are not prime):\n",
    "        is_prime = True\n",
    "        FOR each prime p in primes:\n",
    "            IF p * p > candidate:\n",
    "                BREAK  // No need to check further\n",
    "            IF candidate is divisible by p:\n",
    "                is_prime = False\n",
    "                BREAK\n",
    "        IF is_prime:\n",
    "            ADD candidate to primes    \n",
    "    RETURN primes"
   ]
  },
  {
   "cell_type": "code",
   "execution_count": 3,
   "id": "37e8443f",
   "metadata": {},
   "outputs": [],
   "source": [
    "def primes_list(n):\n",
    "    \"\"\"\n",
    "    return a list of all primes less than or equal to n.\n",
    "    \"\"\"\n",
    "    if n < 2:\n",
    "        return []\n",
    "    primes = [2]\n",
    "    for candidate in range(3, n + 1, 2):\n",
    "        is_prime = True\n",
    "        # only check divisibility by primes up to sqrt(candidate)\n",
    "        for p in primes:\n",
    "            if p * p > candidate:\n",
    "                break\n",
    "            if candidate % p == 0:\n",
    "                is_prime = False\n",
    "                break\n",
    "        if is_prime:\n",
    "            primes.append(candidate) \n",
    "    return primes"
   ]
  },
  {
   "cell_type": "code",
   "execution_count": 6,
   "id": "55ffacde",
   "metadata": {},
   "outputs": [
    {
     "data": {
      "text/plain": [
       "[2, 3, 5, 7, 11, 13, 17, 19]"
      ]
     },
     "execution_count": 6,
     "metadata": {},
     "output_type": "execute_result"
    }
   ],
   "source": [
    "primes_list(19)"
   ]
  }
 ],
 "metadata": {
  "kernelspec": {
   "display_name": "Python 3",
   "language": "python",
   "name": "python3"
  },
  "language_info": {
   "codemirror_mode": {
    "name": "ipython",
    "version": 3
   },
   "file_extension": ".py",
   "mimetype": "text/x-python",
   "name": "python",
   "nbconvert_exporter": "python",
   "pygments_lexer": "ipython3",
   "version": "3.12.1"
  }
 },
 "nbformat": 4,
 "nbformat_minor": 5
}
