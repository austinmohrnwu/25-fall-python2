{
 "cells": [
  {
   "cell_type": "markdown",
   "id": "009cb5c1",
   "metadata": {},
   "source": [
    "For the two programs below, begin by writing pseudocode first, then implement your solution. Put your pseudocode in a markdown cell in the same notebook as your implementation.\n",
    "\n",
    "A palindromic product is the product of two integers that reads the same forward and backward. The largest palindromic product that is the product of two two-digit factors is 9009 (which is the product 91 * 99). Write a function called palindromic_product that  takes a positive integer n as input and returns the largest palindromic product that is the product of two properly n-digit factors.\n",
    "Multiplication is commutative (i.e., the order of the factors is irrelevant). Use this observation to reduce your search space. For example, your implementation should avoid checking both 13 * 58 and 58 * 13.\n",
    "Include both lower and upper bounds on your factors. In the two-digit case, for example, the smallest product to check is 10 * 10 and the largest is 99 * 99. Use this observation to reduce your search space.\n",
    "Your \"test\" in this \"generate and test\" is to check whether a given product is a palindrome. Put this test in a separate auxiliary function that only checks whether an input is a palindrome. You will find it useful to turn the integer into a string using the str() function (e.g., str(9009) returns the string '9009').\n",
    "Write a function called primes_list that takes a positive integer n as input and returns a list of all primes less than or equal to n. (Note that 1 is not a prime.)\n",
    "An integer is prime precisely when it is divisible by no primes strictly smaller than itself. For example, to test whether 17 is prime, we would only need to examine whether it is divisible by 2, 3, 5, 7, 11, and 13. Use this observation to reduce your search space.\n",
    "We could use the same list as in the previous bullet point to test whether 16 is prime, but the algorithm should notice immediately that it is divisible by 2 and not check any further. Use this observation to reduce the number of tests your algorithm performs.\n",
    "Include the output of the following test cases:\n",
    "palindromic_product(3) returns 906609\n",
    "primes_list(19) returns the list [2, 3, 5, 7, 11, 13, 17, 19]"
   ]
  },
  {
   "cell_type": "markdown",
   "id": "bd800517",
   "metadata": {},
   "source": []
  }
 ],
 "metadata": {
  "language_info": {
   "name": "python"
  }
 },
 "nbformat": 4,
 "nbformat_minor": 5
}
