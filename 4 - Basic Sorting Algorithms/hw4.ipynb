{
 "cells": [
  {
   "cell_type": "markdown",
   "id": "e0bb29b0",
   "metadata": {},
   "source": [
    "There are two minor improvements that can be made to the Bubble Sort implementation we saw in class. Write an improved version of Bubble Sort called **improved_bubble_sort** (with the same arguments as the example implementation) that incorporates these two observations.\n",
    "\n",
    "If you pass over the array and make no swaps, then the array must already be in sorted order. There is no need to examine the array further. **You can accomplish this by using an appropriate \"flag\" (True/False variable)** that detects whether a swap has taken place on a given pass.\n",
    "\n",
    "After the first pass, the very last element is in its sorted position. We should never involve this element in future comparisons, as it is guaranteed never to be swapped. Similarly, after the second past, the next to last element is in its sorted position. So, after the first two passes, we should never involve the last two elements in future comparisons, as these elements are guaranteed never to be swapped. And so forth. You can accomplish this by a very minor change to the range of one of your loops.\n",
    "\n",
    "end algorithm early if everything is already sorted (in order) and do not compare to the bigger sorted numbers once sorted (-1 from overall index)\n",
    "\n",
    "Write an implementation for Insertion Sort and Selection Sort called **insertion_sort and selection_sort**, respectively. Each should take a list of integers as input and an optional flag to indicate whether the sorted order is ascending or descending (ascending order by default). The function should modify the input list (in other words, do not return a new copy of the input list).\n",
    "\n",
    "Export your notebook to HTML and upload to Canvas. Include the output of the following test cases.\n",
    "test_list = [5, 3, 4, 2, 1]\n",
    "insertion_sort(test_list)\n",
    "print(test_list)\n",
    "test_list = [5, 3, 4, 2, 1]\n",
    "selection_sort(test_list, False)\n",
    "print(test_list)\n",
    "test_list = [5, 3, 4, 2, 1]\n",
    "improved_bubble_sort(test_list)\n",
    "print(test_list)"
   ]
  },
  {
   "cell_type": "code",
   "execution_count": null,
   "id": "64251eca",
   "metadata": {},
   "outputs": [],
   "source": [
    "def bubble_sort(arr, asc = True):\n",
    "    \"\"\"\n",
    "    :param arr: list of integers\n",
    "    :param asc: optional flag to sort in ascending order if True and descending if False\n",
    "    :return: sorts the entries of arr in ascending/descending order according to flag\n",
    "    \"\"\"\n",
    "\n",
    "    length = len(arr)\n",
    "    if asc: # sort ascending\n",
    "        for iteration in range(length - 1):\n",
    "            for loc in range(length - 1):\n",
    "                if arr[loc] > arr[loc + 1]:\n",
    "                    (arr[loc], arr[loc+1]) = (arr[loc+1], arr[loc]) # clean way to swap list entries\n",
    "\n",
    "    else: # sort descending\n",
    "        for iteration in range(length - 1):\n",
    "            for loc in range(length - 1):\n",
    "                if arr[loc] < arr[loc + 1]:\n",
    "                    (arr[loc], arr[loc + 1]) = (arr[loc + 1], arr[loc]) # clean way to swap list entries"
   ]
  },
  {
   "cell_type": "code",
   "execution_count": null,
   "id": "cca9d4a4",
   "metadata": {},
   "outputs": [],
   "source": [
    "def improved_bubble_sort():\n",
    "    pass"
   ]
  },
  {
   "cell_type": "code",
   "execution_count": null,
   "id": "329a419a",
   "metadata": {},
   "outputs": [],
   "source": [
    "def insertion_sort():\n",
    "    pass"
   ]
  },
  {
   "cell_type": "code",
   "execution_count": null,
   "id": "260ec76c",
   "metadata": {},
   "outputs": [],
   "source": [
    "def selection_sort():\n",
    "    pass"
   ]
  },
  {
   "cell_type": "code",
   "execution_count": 1,
   "id": "cb91f7da",
   "metadata": {},
   "outputs": [
    {
     "ename": "NameError",
     "evalue": "name 'insertion_sort' is not defined",
     "output_type": "error",
     "traceback": [
      "\u001b[31m---------------------------------------------------------------------------\u001b[39m",
      "\u001b[31mNameError\u001b[39m                                 Traceback (most recent call last)",
      "\u001b[36mCell\u001b[39m\u001b[36m \u001b[39m\u001b[32mIn[1]\u001b[39m\u001b[32m, line 2\u001b[39m\n\u001b[32m      1\u001b[39m test_list = [\u001b[32m5\u001b[39m, \u001b[32m3\u001b[39m, \u001b[32m4\u001b[39m, \u001b[32m2\u001b[39m, \u001b[32m1\u001b[39m]\n\u001b[32m----> \u001b[39m\u001b[32m2\u001b[39m \u001b[43minsertion_sort\u001b[49m(test_list)\n\u001b[32m      3\u001b[39m \u001b[38;5;28mprint\u001b[39m(test_list)\n\u001b[32m      4\u001b[39m test_list = [\u001b[32m5\u001b[39m, \u001b[32m3\u001b[39m, \u001b[32m4\u001b[39m, \u001b[32m2\u001b[39m, \u001b[32m1\u001b[39m]\n",
      "\u001b[31mNameError\u001b[39m: name 'insertion_sort' is not defined"
     ]
    }
   ],
   "source": [
    "test_list = [5, 3, 4, 2, 1]\n",
    "insertion_sort(test_list)\n",
    "print(test_list)\n",
    "test_list = [5, 3, 4, 2, 1]\n",
    "selection_sort(test_list, False)\n",
    "print(test_list)\n",
    "test_list = [5, 3, 4, 2, 1]\n",
    "improved_bubble_sort(test_list)\n",
    "print(test_list)"
   ]
  }
 ],
 "metadata": {
  "kernelspec": {
   "display_name": "Python 3",
   "language": "python",
   "name": "python3"
  },
  "language_info": {
   "codemirror_mode": {
    "name": "ipython",
    "version": 3
   },
   "file_extension": ".py",
   "mimetype": "text/x-python",
   "name": "python",
   "nbconvert_exporter": "python",
   "pygments_lexer": "ipython3",
   "version": "3.12.1"
  }
 },
 "nbformat": 4,
 "nbformat_minor": 5
}
