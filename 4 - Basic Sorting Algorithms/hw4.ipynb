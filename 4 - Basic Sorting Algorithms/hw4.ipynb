{
 "cells": [
  {
   "cell_type": "markdown",
   "id": "e0bb29b0",
   "metadata": {},
   "source": [
    "There are two minor improvements that can be made to the Bubble Sort implementation we saw in class. Write an improved version of Bubble Sort called **improved_bubble_sort** (with the same arguments as the example implementation) that incorporates these two observations.\n",
    "\n",
    "If you pass over the array and make no swaps, then the array must already be in sorted order. There is no need to examine the array further. **You can accomplish this by using an appropriate \"flag\" (True/False variable)** that detects whether a swap has taken place on a given pass.\n",
    "\n",
    "After the first pass, the very last element is in its sorted position. We should never involve this element in future comparisons, as it is guaranteed never to be swapped. Similarly, after the second past, the next to last element is in its sorted position. So, after the first two passes, we should never involve the last two elements in future comparisons, as these elements are guaranteed never to be swapped. And so forth. You can accomplish this by a very minor change to the range of one of your loops.\n",
    "\n",
    "end algorithm early if everything is already sorted (in order) and do not compare to the bigger sorted numbers once sorted (-1 from overall index)\n",
    "\n",
    "Write an implementation for Insertion Sort and Selection Sort called **insertion_sort and selection_sort**, respectively. Each should take a list of integers as input and an optional flag to indicate whether the sorted order is ascending or descending (ascending order by default). The function should modify the input list (in other words, do not return a new copy of the input list).\n",
    "\n",
    "Export your notebook to HTML and upload to Canvas. Include the output of the following test cases.\n",
    "test_list = [5, 3, 4, 2, 1]\n",
    "insertion_sort(test_list)\n",
    "print(test_list)\n",
    "test_list = [5, 3, 4, 2, 1]\n",
    "selection_sort(test_list, False)\n",
    "print(test_list)\n",
    "test_list = [5, 3, 4, 2, 1]\n",
    "improved_bubble_sort(test_list)\n",
    "print(test_list)"
   ]
  },
  {
   "cell_type": "code",
   "execution_count": null,
   "id": "64251eca",
   "metadata": {},
   "outputs": [],
   "source": [
    "def bubble_sort(arr, asc = True):\n",
    "    \"\"\"\n",
    "    :param arr: list of integers\n",
    "    :param asc: optional flag to sort in ascending order if True and descending if False\n",
    "    :return: sorts the entries of arr in ascending/descending order according to flag\n",
    "    \"\"\"\n",
    "\n",
    "    length = len(arr)\n",
    "    if asc: # sort ascending\n",
    "        for iteration in range(length - 1):\n",
    "            for loc in range(length - 1):\n",
    "                if arr[loc] > arr[loc + 1]:\n",
    "                    (arr[loc], arr[loc+1]) = (arr[loc+1], arr[loc]) # clean way to swap list entries\n",
    "\n",
    "    else: # sort descending\n",
    "        for iteration in range(length - 1):\n",
    "            for loc in range(length - 1):\n",
    "                if arr[loc] < arr[loc + 1]:\n",
    "                    (arr[loc], arr[loc + 1]) = (arr[loc + 1], arr[loc]) # clean way to swap list entries"
   ]
  },
  {
   "cell_type": "code",
   "execution_count": 1,
   "id": "cca9d4a4",
   "metadata": {},
   "outputs": [],
   "source": [
    "def improved_bubble_sort(arr, asc=True):\n",
    "    '''\n",
    "    early termination and reduced range for comparison\n",
    "    '''\n",
    "    length = len(arr)\n",
    "    if asc:\n",
    "        for i in range(length - 1):\n",
    "            diff = False\n",
    "            # the last i elements in place\n",
    "            for j in range(0, length - i - 1):\n",
    "                if arr[j] > arr[j +1]:\n",
    "                    arr[j], arr[j + 1] = arr[j +1], arr[j]\n",
    "                    diff = True\n",
    "                # if they are not swapped aka diff then array gets sorted\n",
    "            if not diff:\n",
    "                break\n",
    "    else:\n",
    "        for i in range(length - 1):\n",
    "            diff = False\n",
    "            for j in range(0, length - i - 1):\n",
    "                if arr[j] < arr[j + 1]:\n",
    "                    arr[j], arr[j + 1] = arr[j +1], arr[j]\n",
    "                    diff = True\n",
    "            if not diff:\n",
    "                break"
   ]
  },
  {
   "cell_type": "code",
   "execution_count": null,
   "id": "329a419a",
   "metadata": {},
   "outputs": [],
   "source": [
    "def insertion_sort(arr, asc=True):\n",
    "    length = len(arr)\n",
    "    if asc:\n",
    "        for i in range(1, length):\n",
    "            key = arr[i]\n",
    "            j = i - 1\n",
    "            # shift elements greater than key to the right\n",
    "            while j >= 0 and arr[j] > key:\n",
    "                arr[j + 1] = arr[j]\n",
    "                j -= 1\n",
    "            arr[j + 1] = key\n",
    "    else:\n",
    "        for i in range(1, length):\n",
    "            key = arr[i]\n",
    "            j = i - 1\n",
    "            # shift elements smaller than key to the right\n",
    "            while j >= 0 and arr[j] < key:\n",
    "                arr[j + 1] = arr[j]\n",
    "                j -= 1\n",
    "            arr[j + 1] = key"
   ]
  },
  {
   "cell_type": "code",
   "execution_count": null,
   "id": "260ec76c",
   "metadata": {},
   "outputs": [],
   "source": [
    "def selection_sort(arr, asc=True):\n",
    "    length = len(arr)\n",
    "    if asc:\n",
    "        for i in range(length):\n",
    "            min_idx = i\n",
    "            # find minimum element in unsorted array\n",
    "            for j in range(i + 1, length):\n",
    "                if arr[j] < arr[min_idx]:\n",
    "                    min_idx = j\n",
    "            # swap found minimum with the first element\n",
    "            arr[i], arr[min_idx] = arr[min_idx], arr[i]\n",
    "    else:\n",
    "        for i in range(length):\n",
    "            max_idx = i\n",
    "            # find maximum element in remaining unsorted array\n",
    "            for j in range(i + 1, length):\n",
    "                if arr[j] > arr[max_idx]:\n",
    "                    max_idx = j\n",
    "            # swap found maximum with the first element\n",
    "            arr[i], arr[max_idx] = arr[max_idx], arr[i]"
   ]
  },
  {
   "cell_type": "code",
   "execution_count": 4,
   "id": "cb91f7da",
   "metadata": {},
   "outputs": [
    {
     "name": "stdout",
     "output_type": "stream",
     "text": [
      "[1, 2, 3, 4, 5]\n",
      "[5, 4, 3, 2, 1]\n",
      "[1, 2, 3, 4, 5]\n"
     ]
    }
   ],
   "source": [
    "test_list = [5, 3, 4, 2, 1]\n",
    "insertion_sort(test_list)\n",
    "print(test_list)\n",
    "test_list = [5, 3, 4, 2, 1]\n",
    "selection_sort(test_list, False)\n",
    "print(test_list)\n",
    "test_list = [5, 3, 4, 2, 1]\n",
    "improved_bubble_sort(test_list)\n",
    "print(test_list)"
   ]
  }
 ],
 "metadata": {
  "kernelspec": {
   "display_name": "Python 3",
   "language": "python",
   "name": "python3"
  },
  "language_info": {
   "codemirror_mode": {
    "name": "ipython",
    "version": 3
   },
   "file_extension": ".py",
   "mimetype": "text/x-python",
   "name": "python",
   "nbconvert_exporter": "python",
   "pygments_lexer": "ipython3",
   "version": "3.12.1"
  }
 },
 "nbformat": 4,
 "nbformat_minor": 5
}
