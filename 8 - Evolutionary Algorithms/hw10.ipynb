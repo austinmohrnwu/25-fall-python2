{
 "cells": [
  {
   "cell_type": "markdown",
   "id": "b080dd32",
   "metadata": {},
   "source": [
    "Write a function knapsack(capacity) that uses an evolutionary algorithm to generate a solution to the Knapsack ProblemLinks to an external site.. The input capacity is an integer that represents the maximum capacity of the knapsack. The output of the function is a list representing the items in the knapsack.\n",
    "Use the weights and values found in this file Download this file. You may copy and paste this list into your code.\n",
    "I recommend representing the knapsack as a list of integers corresponding to the item's location in the item list. For example, the knapsack [0, 1, 9] contains items 0, 1, and 9 from the item list.\n",
    "INITIALIZE: You can begin with an empty knapsack.\n",
    "MUTATE:\n",
    "Pick a random item that is currently not in the knapsack. (You could accomplish this by generating a random knapsack list index using the sample functionLinks to an external site..)\n",
    "Randomly remove items from the knapsack until there is room to add the new item. (Note that you may not have to remove any items.) \n",
    "Generate 100 offspring per generation. (You can increase this number if you feel like you aren't getting good results.)\n",
    "SELECT: The fitness function is the sum of values of all the items in a knapsack. Use this to decide which is the best offspring in a generation.\n",
    "TERMINATE: Terminate when two consecutive generations give the same best knapsack. (You might use a flag to check whether any improvement was found in a generation.)\n",
    " \n",
    "\n",
    "Submission\n",
    "\n",
    "Export and upload your notebook containing pseudocode and the output of the following test case:\n",
    "\n",
    "knapsack(300) (since evolutionary algorithms use randomness, each execution of the code will yield slightly different results)"
   ]
  },
  {
   "cell_type": "markdown",
   "id": "49df438a",
   "metadata": {},
   "source": []
  }
 ],
 "metadata": {
  "language_info": {
   "name": "python"
  }
 },
 "nbformat": 4,
 "nbformat_minor": 5
}
