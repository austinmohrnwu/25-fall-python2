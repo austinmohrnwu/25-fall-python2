{
 "cells": [
  {
   "cell_type": "markdown",
   "id": "0dc9dc88",
   "metadata": {},
   "source": [
    "**Write a function called histogram(string_list) that takes a list of strings as input. The function should return a dictionary whose keys are the strings and whose values are the number of times that string appears in string_list. For example, if string_list = ['a', 'c', 'c', 'b'], then histogram(string_list) returns the dictionary {'a':1, 'c':2, 'b':1}.**\n",
    "\n",
    "I recommend using a for loop to visit every element of string_list. If the current element already belongs to the dictionary, then increment its value. If the current element does not belong to the dictionary, create a new key-value pair. Upload a screenshot of your code and the output for the following case:\n",
    "histogram(['word', 'text', 'word', 'word', 'string']) returns {'word':3, 'text':1, 'string':1}"
   ]
  },
  {
   "cell_type": "code",
   "execution_count": 130,
   "id": "c6362919",
   "metadata": {},
   "outputs": [],
   "source": [
    "def histogram(string_list):\n",
    "    words = dict()\n",
    "    count = 0\n",
    "    for word in string_list:\n",
    "        count += 1\n",
    "        words.update({word:count})\n",
    "    return words"
   ]
  },
  {
   "cell_type": "code",
   "execution_count": 134,
   "id": "50197762",
   "metadata": {},
   "outputs": [],
   "source": [
    "list = ['a','c','c','b']\n",
    "list_2 = ['word','word','text','lice','lice']"
   ]
  },
  {
   "cell_type": "code",
   "execution_count": 135,
   "id": "11dbe55a",
   "metadata": {},
   "outputs": [
    {
     "data": {
      "text/plain": [
       "{'a': 1, 'c': 3, 'b': 4}"
      ]
     },
     "execution_count": 135,
     "metadata": {},
     "output_type": "execute_result"
    }
   ],
   "source": [
    "histogram(list)"
   ]
  },
  {
   "cell_type": "code",
   "execution_count": 136,
   "id": "e71ab5e7",
   "metadata": {},
   "outputs": [
    {
     "data": {
      "text/plain": [
       "{'word': 2, 'text': 3, 'lice': 5}"
      ]
     },
     "execution_count": 136,
     "metadata": {},
     "output_type": "execute_result"
    }
   ],
   "source": [
    "histogram(list_2)"
   ]
  },
  {
   "cell_type": "markdown",
   "id": "8d8765f4",
   "metadata": {},
   "source": [
    "**Write a function called reverse_tuple(tuple_set1, tuple_set2) that takes two sets of ordered pairs (2-tuples) as input. The function should output true if tuple_set1 contains an ordered pair whose elements are the reverse of an ordered pair in tuple_set2. For example, if tuple_set1 = {(1, 2), (3, 4)} and tuple_set2 = {(2, 1), (5, 6)}, then the function should output true since the ordered pairs (1, 2) and (2, 1) satisfy the condition. If no two ordered pairs meeting this condition exist, then return False.**\n",
    "\n",
    "I recommend using a for loop to visit every ordered pair in tuple_set1. For each ordered pair, create its reverse, and use the in keyword to determine whether that is an element of tuple_set2. Upload a screenshot of your code and the output for the following cases:\n",
    "reverse_tuple({(1, 2), (3, 4)}, {(2, 1), (5, 6)}) returns True\n",
    "reverse_tuple({(1, 2), (3, 4)}, {(1, 2), (2, 3)}) returns False"
   ]
  },
  {
   "cell_type": "code",
   "execution_count": null,
   "id": "5fef43af",
   "metadata": {},
   "outputs": [],
   "source": [
    "def reverse_tuple(tuple_set1, tuple_set2):\n",
    "    for tuple in tuple_set1:\n",
    "        if tuple_set1[0] == tuple_set1[1]:\n",
    "            return True\n",
    "        else:\n",
    "            return False"
   ]
  },
  {
   "cell_type": "code",
   "execution_count": 148,
   "id": "8ddca7a9",
   "metadata": {},
   "outputs": [
    {
     "ename": "TypeError",
     "evalue": "'set' object is not subscriptable",
     "output_type": "error",
     "traceback": [
      "\u001b[31m---------------------------------------------------------------------------\u001b[39m",
      "\u001b[31mTypeError\u001b[39m                                 Traceback (most recent call last)",
      "\u001b[36mCell\u001b[39m\u001b[36m \u001b[39m\u001b[32mIn[148]\u001b[39m\u001b[32m, line 1\u001b[39m\n\u001b[32m----> \u001b[39m\u001b[32m1\u001b[39m \u001b[43mreverse_tuple\u001b[49m\u001b[43m(\u001b[49m\u001b[43m{\u001b[49m\u001b[43m(\u001b[49m\u001b[32;43m1\u001b[39;49m\u001b[43m,\u001b[49m\u001b[32;43m2\u001b[39;49m\u001b[43m)\u001b[49m\u001b[43m,\u001b[49m\u001b[43m(\u001b[49m\u001b[32;43m2\u001b[39;49m\u001b[43m,\u001b[49m\u001b[32;43m1\u001b[39;49m\u001b[43m)\u001b[49m\u001b[43m}\u001b[49m\u001b[43m,\u001b[49m\u001b[43m{\u001b[49m\u001b[43m(\u001b[49m\u001b[32;43m3\u001b[39;49m\u001b[43m,\u001b[49m\u001b[32;43m4\u001b[39;49m\u001b[43m)\u001b[49m\u001b[43m,\u001b[49m\u001b[43m(\u001b[49m\u001b[32;43m5\u001b[39;49m\u001b[43m,\u001b[49m\u001b[32;43m3\u001b[39;49m\u001b[43m)\u001b[49m\u001b[43m}\u001b[49m\u001b[43m)\u001b[49m\n",
      "\u001b[36mCell\u001b[39m\u001b[36m \u001b[39m\u001b[32mIn[146]\u001b[39m\u001b[32m, line 2\u001b[39m, in \u001b[36mreverse_tuple\u001b[39m\u001b[34m(tuple_set1, tuple_set2)\u001b[39m\n\u001b[32m      1\u001b[39m \u001b[38;5;28;01mdef\u001b[39;00m\u001b[38;5;250m \u001b[39m\u001b[34mreverse_tuple\u001b[39m(tuple_set1, tuple_set2):\n\u001b[32m----> \u001b[39m\u001b[32m2\u001b[39m     \u001b[38;5;28;01mif\u001b[39;00m \u001b[43mtuple_set1\u001b[49m\u001b[43m[\u001b[49m\u001b[32;43m0\u001b[39;49m\u001b[43m]\u001b[49m == tuple_set2[\u001b[32m1\u001b[39m]:\n\u001b[32m      3\u001b[39m         \u001b[38;5;28;01mreturn\u001b[39;00m \u001b[38;5;28;01mTrue\u001b[39;00m\n\u001b[32m      4\u001b[39m     \u001b[38;5;28;01melse\u001b[39;00m:\n",
      "\u001b[31mTypeError\u001b[39m: 'set' object is not subscriptable"
     ]
    }
   ],
   "source": [
    "reverse_tuple({(1,2),(2,1)},{(3,4),(5,3)})"
   ]
  },
  {
   "cell_type": "code",
   "execution_count": null,
   "id": "614f6f10",
   "metadata": {},
   "outputs": [],
   "source": []
  }
 ],
 "metadata": {
  "kernelspec": {
   "display_name": "Python 3",
   "language": "python",
   "name": "python3"
  },
  "language_info": {
   "codemirror_mode": {
    "name": "ipython",
    "version": 3
   },
   "file_extension": ".py",
   "mimetype": "text/x-python",
   "name": "python",
   "nbconvert_exporter": "python",
   "pygments_lexer": "ipython3",
   "version": "3.12.1"
  }
 },
 "nbformat": 4,
 "nbformat_minor": 5
}
