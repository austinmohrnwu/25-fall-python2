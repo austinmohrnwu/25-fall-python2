{
 "cells": [
  {
   "cell_type": "markdown",
   "id": "0dc9dc88",
   "metadata": {},
   "source": [
    "**Write a function called histogram(string_list) that takes a list of strings as input. The function should return a dictionary whose keys are the strings and whose values are the number of times that string appears in string_list. For example, if string_list = ['a', 'c', 'c', 'b'], then histogram(string_list) returns the dictionary {'a':1, 'c':2, 'b':1}.**\n",
    "\n",
    "I recommend using a for loop to visit every element of string_list. If the current element already belongs to the dictionary, then increment its value. If the current element does not belong to the dictionary, create a new key-value pair. Upload a screenshot of your code and the output for the following case:\n",
    "histogram(['word', 'text', 'word', 'word', 'string']) returns {'word':3, 'text':1, 'string':1}"
   ]
  },
  {
   "cell_type": "code",
   "execution_count": null,
   "id": "c6362919",
   "metadata": {},
   "outputs": [],
   "source": [
    "def histogram(string_list):\n",
    "    words = dict()\n",
    "    for word in string_list:\n",
    "        if word in words.keys():\n",
    "            # word already seen before\n",
    "            count = words[word]\n",
    "            words.update({word:count+1})\n",
    "        else:\n",
    "            words.update({word:1})\n",
    "    return words"
   ]
  },
  {
   "cell_type": "code",
   "execution_count": 51,
   "id": "50197762",
   "metadata": {},
   "outputs": [
    {
     "data": {
      "text/plain": [
       "{'a': 1, 'c': 2, 'b': 1}"
      ]
     },
     "execution_count": 51,
     "metadata": {},
     "output_type": "execute_result"
    }
   ],
   "source": [
    "list = ['a','c','c','b']\n",
    "histogram(list)"
   ]
  },
  {
   "cell_type": "code",
   "execution_count": 46,
   "id": "11dbe55a",
   "metadata": {},
   "outputs": [
    {
     "name": "stdout",
     "output_type": "stream",
     "text": [
      "{'a': 1, 'c': 2, 'b': 1}\n",
      "1\n"
     ]
    }
   ],
   "source": [
    "out = histogram(list)\n",
    "print(out)\n",
    "count = out['a']\n",
    "print(count)"
   ]
  },
  {
   "cell_type": "code",
   "execution_count": 47,
   "id": "3f6a925e",
   "metadata": {},
   "outputs": [
    {
     "data": {
      "text/plain": [
       "{'a': 1, 'b': 3, 'c': 1}"
      ]
     },
     "execution_count": 47,
     "metadata": {},
     "output_type": "execute_result"
    }
   ],
   "source": [
    "test = {'a':1, 'b':3}\n",
    "test['c'] = 1\n",
    "test"
   ]
  },
  {
   "cell_type": "markdown",
   "id": "8d8765f4",
   "metadata": {},
   "source": [
    "**Write a function called reverse_tuple(tuple_set1, tuple_set2) that takes two sets of ordered pairs (2-tuples) as input. The function should output true if tuple_set1 contains an ordered pair whose elements are the reverse of an ordered pair in tuple_set2. For example, if tuple_set1 = {(1, 2), (3, 4)} and tuple_set2 = {(2, 1), (5, 6)}, then the function should output true since the ordered pairs (1, 2) and (2, 1) satisfy the condition. If no two ordered pairs meeting this condition exist, then return False.**\n",
    "\n",
    "I recommend using a for loop to visit every ordered pair in tuple_set1. For each ordered pair, create its reverse, and use the in keyword to determine whether that is an element of tuple_set2. Upload a screenshot of your code and the output for the following cases:\n",
    "reverse_tuple({(1, 2), (3, 4)}, {(2, 1), (5, 6)}) returns True\n",
    "reverse_tuple({(1, 2), (3, 4)}, {(1, 2), (2, 3)}) returns False"
   ]
  },
  {
   "cell_type": "code",
   "execution_count": 52,
   "id": "5fef43af",
   "metadata": {},
   "outputs": [],
   "source": [
    "def reverse_tuple(tuple_set1, tuple_set2):\n",
    "    for tup in tuple_set1:\n",
    "        reversed_pair = (tup[1],tup[0])\n",
    "        if reversed_pair in tuple_set2:\n",
    "            return True\n",
    "        else:\n",
    "            return False"
   ]
  },
  {
   "cell_type": "code",
   "execution_count": 55,
   "id": "8ddca7a9",
   "metadata": {},
   "outputs": [
    {
     "name": "stdout",
     "output_type": "stream",
     "text": [
      "True\n",
      "False\n"
     ]
    }
   ],
   "source": [
    "print(reverse_tuple({(1, 2), (3, 4)}, {(2, 1), (5, 6)}))\n",
    "print(reverse_tuple({(1, 2), (3, 4)}, {(1, 2), (2, 3)}))"
   ]
  },
  {
   "cell_type": "code",
   "execution_count": 49,
   "id": "82f0ac0b",
   "metadata": {},
   "outputs": [
    {
     "data": {
      "text/plain": [
       "True"
      ]
     },
     "execution_count": 49,
     "metadata": {},
     "output_type": "execute_result"
    }
   ],
   "source": [
    "tuple_set = {(1,2)}\n",
    "(1,2) in tuple_set"
   ]
  },
  {
   "cell_type": "code",
   "execution_count": 50,
   "id": "de7e54a3",
   "metadata": {},
   "outputs": [
    {
     "data": {
      "text/plain": [
       "3"
      ]
     },
     "execution_count": 50,
     "metadata": {},
     "output_type": "execute_result"
    }
   ],
   "source": [
    "tup = (1,2,3)\n",
    "tup[2]"
   ]
  }
 ],
 "metadata": {
  "kernelspec": {
   "display_name": "Python 3",
   "language": "python",
   "name": "python3"
  },
  "language_info": {
   "codemirror_mode": {
    "name": "ipython",
    "version": 3
   },
   "file_extension": ".py",
   "mimetype": "text/x-python",
   "name": "python",
   "nbconvert_exporter": "python",
   "pygments_lexer": "ipython3",
   "version": "3.12.1"
  }
 },
 "nbformat": 4,
 "nbformat_minor": 5
}
