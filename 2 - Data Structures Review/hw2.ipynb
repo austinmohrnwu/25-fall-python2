{
 "cells": [
  {
   "cell_type": "markdown",
   "id": "0dc9dc88",
   "metadata": {},
   "source": [
    "**Write a function called histogram(string_list) that takes a list of strings as input. The function should return a dictionary whose keys are the strings and whose values are the number of times that string appears in string_list. For example, if string_list = ['a', 'c', 'c', 'b'], then histogram(string_list) returns the dictionary {'a':1, 'c':2, 'b':1}.**\n",
    "\n",
    "I recommend using a for loop to visit every element of string_list. If the current element already belongs to the dictionary, then increment its value. If the current element does not belong to the dictionary, create a new key-value pair. Upload a screenshot of your code and the output for the following case:\n",
    "histogram(['word', 'text', 'word', 'word', 'string']) returns {'word':3, 'text':1, 'string':1}\n",
    "\n",
    "**Write a function called reverse_tuple(tuple_set1, tuple_set2) that takes two sets of ordered pairs (2-tuples) as input. The function should output true if tuple_set1 contains an ordered pair whose elements are the reverse of an ordered pair in tuple_set2. For example, if tuple_set1 = {(1, 2), (3, 4)} and tuple_set2 = {(2, 1), (5, 6)}, then the function should output true since the ordered pairs (1, 2) and (2, 1) satisfy the condition. If no two ordered pairs meeting this condition exist, then return False.**\n",
    "\n",
    "I recommend using a for loop to visit every ordered pair in tuple_set1. For each ordered pair, create its reverse, and use the in keyword to determine whether that is an element of tuple_set2. Upload a screenshot of your code and the output for the following cases:\n",
    "reverse_tuple({(1, 2), (3, 4)}, {(2, 1), (5, 6)}) returns True\n",
    "reverse_tuple({(1, 2), (3, 4)}, {(1, 2), (2, 3)}) returns False"
   ]
  },
  {
   "cell_type": "markdown",
   "id": "91ebffeb",
   "metadata": {},
   "source": []
  }
 ],
 "metadata": {
  "language_info": {
   "name": "python"
  }
 },
 "nbformat": 4,
 "nbformat_minor": 5
}
