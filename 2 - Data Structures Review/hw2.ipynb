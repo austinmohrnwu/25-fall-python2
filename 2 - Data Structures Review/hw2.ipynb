{
 "cells": [
  {
   "cell_type": "markdown",
   "id": "0dc9dc88",
   "metadata": {},
   "source": [
    "**Write a function called histogram(string_list) that takes a list of strings as input. The function should return a dictionary whose keys are the strings and whose values are the number of times that string appears in string_list. For example, if string_list = ['a', 'c', 'c', 'b'], then histogram(string_list) returns the dictionary {'a':1, 'c':2, 'b':1}.**\n",
    "\n",
    "I recommend using a for loop to visit every element of string_list. If the current element already belongs to the dictionary, then increment its value. If the current element does not belong to the dictionary, create a new key-value pair. Upload a screenshot of your code and the output for the following case:\n",
    "histogram(['word', 'text', 'word', 'word', 'string']) returns {'word':3, 'text':1, 'string':1}"
   ]
  },
  {
   "cell_type": "code",
   "execution_count": 130,
   "id": "c6362919",
   "metadata": {},
   "outputs": [],
   "source": [
    "def histogram(string_list):\n",
    "    words = dict()\n",
    "    count = 0\n",
    "    for word in string_list:\n",
    "        count += 1\n",
    "        words.update({word:count})\n",
    "    return words"
   ]
  },
  {
   "cell_type": "code",
   "execution_count": 134,
   "id": "50197762",
   "metadata": {},
   "outputs": [],
   "source": [
    "list = ['a','c','c','b']\n",
    "list_2 = ['word','word','text','lice','lice']"
   ]
  },
  {
   "cell_type": "code",
   "execution_count": 135,
   "id": "11dbe55a",
   "metadata": {},
   "outputs": [
    {
     "data": {
      "text/plain": [
       "{'a': 1, 'c': 3, 'b': 4}"
      ]
     },
     "execution_count": 135,
     "metadata": {},
     "output_type": "execute_result"
    }
   ],
   "source": [
    "histogram(list)"
   ]
  },
  {
   "cell_type": "code",
   "execution_count": 136,
   "id": "e71ab5e7",
   "metadata": {},
   "outputs": [
    {
     "data": {
      "text/plain": [
       "{'word': 2, 'text': 3, 'lice': 5}"
      ]
     },
     "execution_count": 136,
     "metadata": {},
     "output_type": "execute_result"
    }
   ],
   "source": [
    "histogram(list_2)"
   ]
  },
  {
   "cell_type": "markdown",
   "id": "8d8765f4",
   "metadata": {},
   "source": [
    "**Write a function called reverse_tuple(tuple_set1, tuple_set2) that takes two sets of ordered pairs (2-tuples) as input. The function should output true if tuple_set1 contains an ordered pair whose elements are the reverse of an ordered pair in tuple_set2. For example, if tuple_set1 = {(1, 2), (3, 4)} and tuple_set2 = {(2, 1), (5, 6)}, then the function should output true since the ordered pairs (1, 2) and (2, 1) satisfy the condition. If no two ordered pairs meeting this condition exist, then return False.**\n",
    "\n",
    "I recommend using a for loop to visit every ordered pair in tuple_set1. For each ordered pair, create its reverse, and use the in keyword to determine whether that is an element of tuple_set2. Upload a screenshot of your code and the output for the following cases:\n",
    "reverse_tuple({(1, 2), (3, 4)}, {(2, 1), (5, 6)}) returns True\n",
    "reverse_tuple({(1, 2), (3, 4)}, {(1, 2), (2, 3)}) returns False"
   ]
  },
  {
   "cell_type": "code",
   "execution_count": 153,
   "id": "5fef43af",
   "metadata": {},
   "outputs": [],
   "source": [
    "def reverse_tuple(tuple_set1, tuple_set2):\n",
    "        if tuple_set1[0] == tuple_set1[1]:\n",
    "            return True\n",
    "        else:\n",
    "            return False"
   ]
  },
  {
   "cell_type": "code",
   "execution_count": 155,
   "id": "8ddca7a9",
   "metadata": {},
   "outputs": [
    {
     "data": {
      "text/plain": [
       "False"
      ]
     },
     "execution_count": 155,
     "metadata": {},
     "output_type": "execute_result"
    }
   ],
   "source": [
    "reverse_tuple((1,7),(2,1))"
   ]
  }
 ],
 "metadata": {
  "kernelspec": {
   "display_name": "Python 3",
   "language": "python",
   "name": "python3"
  },
  "language_info": {
   "codemirror_mode": {
    "name": "ipython",
    "version": 3
   },
   "file_extension": ".py",
   "mimetype": "text/x-python",
   "name": "python",
   "nbconvert_exporter": "python",
   "pygments_lexer": "ipython3",
   "version": "3.12.1"
  }
 },
 "nbformat": 4,
 "nbformat_minor": 5
}
