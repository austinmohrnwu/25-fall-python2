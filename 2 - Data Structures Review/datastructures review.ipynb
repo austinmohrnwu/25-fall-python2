{
 "cells": [
  {
   "cell_type": "code",
   "execution_count": null,
   "id": "bb502481",
   "metadata": {},
   "outputs": [],
   "source": [
    "def histogram(string_list):\n",
    "  temp = dict()\n",
    "  for item in string_list:\n",
    "    if item not in temp.keys():\n",
    "      temp[item] = 1\n",
    "    else:\n",
    "      temp[item] += 1\n",
    "  return temp"
   ]
  },
  {
   "cell_type": "code",
   "execution_count": null,
   "id": "059921c1",
   "metadata": {},
   "outputs": [],
   "source": [
    "items = ['word','text','word','word','string']\n",
    "print(histogram(items))"
   ]
  },
  {
   "cell_type": "code",
   "execution_count": null,
   "id": "2fbba1a9",
   "metadata": {},
   "outputs": [],
   "source": [
    "def reverse_tuple(tuple_set1, tuple_set2):\n",
    "  for item in tuple_set1:\n",
    "    reversed_pair = item[::-1]\n",
    "    if reversed_pair in tuple_set2:\n",
    "      return True\n",
    "  return False"
   ]
  },
  {
   "cell_type": "code",
   "execution_count": null,
   "id": "2a011db4",
   "metadata": {},
   "outputs": [],
   "source": [
    "print(reverse_tuple({(1,2),(3,4)}, {(2,1),(5,6)}))\n",
    "print(reverse_tuple({(1,2),(3,4)}, {(1,2),(2,3)}))"
   ]
  }
 ],
 "metadata": {
  "kernelspec": {
   "display_name": "Python 3",
   "language": "python",
   "name": "python3"
  },
  "language_info": {
   "name": "python",
   "version": "3.12.1"
  }
 },
 "nbformat": 4,
 "nbformat_minor": 5
}
