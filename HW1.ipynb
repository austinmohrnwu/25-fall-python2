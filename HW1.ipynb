{
 "cells": [
  {
   "cell_type": "code",
   "execution_count": 1,
   "id": "c8536565",
   "metadata": {},
   "outputs": [
    {
     "name": "stdout",
     "output_type": "stream",
     "text": [
      "False\n",
      "True\n"
     ]
    }
   ],
   "source": [
    "def is_perfect(input_int):\n",
    "    start = 0\n",
    "    for i in range(1,input_int):\n",
    "        if input_int % i == 0:\n",
    "            start = start + i\n",
    "    if start == input_int:\n",
    "        return True\n",
    "    else:\n",
    "        return False\n",
    "    \n",
    "print(is_perfect(100))\n",
    "print(is_perfect(496))"
   ]
  },
  {
   "cell_type": "code",
   "execution_count": 2,
   "id": "e2e191e3",
   "metadata": {},
   "outputs": [
    {
     "data": {
      "text/plain": [
       "30"
      ]
     },
     "execution_count": 2,
     "metadata": {},
     "output_type": "execute_result"
    }
   ],
   "source": [
    "def lcm(int1,int2):\n",
    "    start = 1\n",
    "    while start % int1  != 0:\n",
    "        start = start + 1\n",
    "        while start % int2 != 0:\n",
    "            start = start + 1\n",
    "    return start\n",
    "\n",
    "lcm(3,10)\n",
    "lcm(3,10)\n",
    "lcm(10,30)"
   ]
  },
  {
   "cell_type": "code",
   "execution_count": null,
   "id": "a29db2cf",
   "metadata": {},
   "outputs": [],
   "source": []
  }
 ],
 "metadata": {
  "kernelspec": {
   "display_name": "Python 3",
   "language": "python",
   "name": "python3"
  },
  "language_info": {
   "codemirror_mode": {
    "name": "ipython",
    "version": 3
   },
   "file_extension": ".py",
   "mimetype": "text/x-python",
   "name": "python",
   "nbconvert_exporter": "python",
   "pygments_lexer": "ipython3",
   "version": "3.12.1"
  }
 },
 "nbformat": 4,
 "nbformat_minor": 5
}
