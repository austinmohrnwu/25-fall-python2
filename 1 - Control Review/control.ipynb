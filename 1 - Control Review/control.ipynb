{
 "cells": [
  {
   "cell_type": "code",
   "execution_count": null,
   "metadata": {},
   "outputs": [],
   "source": [
    "def comparison_demo(num1, num2):\n",
    "    \"\"\"\n",
    "    :param num1: number\n",
    "    :param num2: number\n",
    "    :return: Prints a string stating whether num1 is greater than, equal to, or less than num2\n",
    "    \"\"\"\n",
    "    if num1 > num2:\n",
    "        print(num1, 'is greater than', num2)\n",
    "        print('the first condition was met')\n",
    "    elif num1 == num2:\n",
    "        print(num1, 'and', num2, 'are equal')\n",
    "        print('the second condition was met')\n",
    "    else:\n",
    "        print(num1, 'is less than', num2)\n",
    "        print('no conditions were met - executing else statement')"
   ]
  },
  {
   "cell_type": "code",
   "execution_count": null,
   "metadata": {},
   "outputs": [],
   "source": [
    "comparison_demo(3, 4)"
   ]
  },
  {
   "cell_type": "code",
   "execution_count": null,
   "metadata": {},
   "outputs": [],
   "source": [
    "comparison_demo(3, 3)"
   ]
  },
  {
   "cell_type": "code",
   "execution_count": null,
   "metadata": {},
   "outputs": [],
   "source": [
    "def while_demo(input_int):\n",
    "    \"\"\"\n",
    "    :param num1: number\n",
    "    :return: print the first multiple of 10 that is greater than or equal to input_int\n",
    "    \"\"\"\n",
    "    multiple = input_int\n",
    "    while multiple % 10 != 0:\n",
    "        print('multiple is currently:', multiple)\n",
    "        multiple = multiple + 1\n",
    "\n",
    "    return multiple"
   ]
  },
  {
   "cell_type": "code",
   "execution_count": null,
   "metadata": {},
   "outputs": [],
   "source": [
    "result = while_demo(50)\n",
    "print(result)"
   ]
  },
  {
   "cell_type": "code",
   "execution_count": null,
   "metadata": {},
   "outputs": [],
   "source": [
    "result = while_demo(11)\n",
    "print(result)"
   ]
  },
  {
   "cell_type": "code",
   "execution_count": null,
   "metadata": {},
   "outputs": [],
   "source": [
    "def for_demo(input_int):\n",
    "    \"\"\"\n",
    "    :param input_int: integer\n",
    "    :return: sum of all integers from 1 to input_int, inclusive\n",
    "    \"\"\"\n",
    "    the_sum = 0\n",
    "    for current_int in range(1,input_int + 1):\n",
    "        print('current_int has the value', current_int)\n",
    "        the_sum = the_sum + current_int\n",
    "\n",
    "    return the_sum"
   ]
  },
  {
   "cell_type": "code",
   "execution_count": null,
   "metadata": {},
   "outputs": [],
   "source": [
    "result = for_demo(5)\n",
    "print(result)"
   ]
  },
  {
   "cell_type": "code",
   "execution_count": null,
   "metadata": {},
   "outputs": [],
   "source": [
    "def is_prime(input_int):\n",
    "    \"\"\"\n",
    "    :param input_int: integer\n",
    "    :return: True if test_int is prime. False, otherwise.\n",
    "    \"\"\"\n",
    "    for test_divisor in range(2, input_int):\n",
    "        print('currently testing divisibility by:', test_divisor)\n",
    "        if input_int % test_divisor == 0:\n",
    "            return False\n",
    "\n",
    "    # If you reach this line, then input_int is not divisible by anything in the\n",
    "    # search range.\n",
    "    return True"
   ]
  },
  {
   "cell_type": "code",
   "execution_count": null,
   "metadata": {},
   "outputs": [],
   "source": [
    "result = is_prime(10)\n",
    "print(result)"
   ]
  },
  {
   "cell_type": "code",
   "execution_count": null,
   "metadata": {},
   "outputs": [],
   "source": [
    "result = is_prime(35)\n",
    "print(result)"
   ]
  },
  {
   "cell_type": "code",
   "execution_count": null,
   "metadata": {},
   "outputs": [],
   "source": [
    "# You can create compound conditional statements using 'and' and 'or'\n",
    "def either_prime(int1, int2):\n",
    "    \"\"\"\n",
    "    :param int1: integer\n",
    "    :param int2: integer\n",
    "    :return: True if at least one of int1 or int2 is prime. False, otherwise.\n",
    "    \"\"\"\n",
    "    if is_prime(int1) or is_prime(int2):\n",
    "        return True\n",
    "    \n",
    "    return False"
   ]
  },
  {
   "cell_type": "code",
   "execution_count": null,
   "metadata": {},
   "outputs": [],
   "source": [
    "either_prime(3, 5)"
   ]
  },
  {
   "cell_type": "code",
   "execution_count": null,
   "metadata": {},
   "outputs": [],
   "source": [
    "either_prime(9, 35)"
   ]
  },
  {
   "cell_type": "code",
   "execution_count": null,
   "metadata": {},
   "outputs": [],
   "source": [
    "# Looping over strings uses the same syntax and proceeds one character at a time\n",
    "test_string = 'hello'\n",
    "for letter in test_string:\n",
    "    print(letter)"
   ]
  },
  {
   "cell_type": "code",
   "execution_count": null,
   "metadata": {},
   "outputs": [],
   "source": []
  }
 ],
 "metadata": {
  "kernelspec": {
   "display_name": "Python 3",
   "language": "python",
   "name": "python3"
  },
  "language_info": {
   "codemirror_mode": {
    "name": "ipython",
    "version": 3
   },
   "file_extension": ".py",
   "mimetype": "text/x-python",
   "name": "python",
   "nbconvert_exporter": "python",
   "pygments_lexer": "ipython3",
   "version": "3.12.1"
  }
 },
 "nbformat": 4,
 "nbformat_minor": 2
}
