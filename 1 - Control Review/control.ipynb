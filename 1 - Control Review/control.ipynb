{
 "cells": [
  {
   "cell_type": "code",
   "execution_count": null,
   "metadata": {},
   "outputs": [],
   "source": [
    "def comparison_demo(num1, num2):\n",
    "    \"\"\"\n",
    "    :param num1: number\n",
    "    :param num2: number\n",
    "    :return: Prints a string stating whether num1 is greater than, equal to, or less than num2\n",
    "    \"\"\"\n",
    "    if num1 > num2:\n",
    "        print(num1, 'is greater than', num2)\n",
    "    elif num1 == num2:\n",
    "        print(num1, 'and', num2, 'are equal')\n",
    "    else:\n",
    "        print(num1, 'is less than', num2)"
   ]
  },
  {
   "cell_type": "code",
   "execution_count": null,
   "metadata": {},
   "outputs": [],
   "source": [
    "comparison_demo(3, 4)\n",
    "comparison_demo(3, 3)"
   ]
  },
  {
   "cell_type": "code",
   "execution_count": null,
   "metadata": {},
   "outputs": [],
   "source": [
    "def while_demo(input_int):\n",
    "    \"\"\"\n",
    "    :param num1: number\n",
    "    :return: print the first multiple of 10 that is greater than or equal to input_int\n",
    "    \"\"\"\n",
    "    multiple = input_int\n",
    "    while multiple % 10 != 0:\n",
    "        multiple = multiple + 1\n",
    "\n",
    "    return multiple"
   ]
  },
  {
   "cell_type": "code",
   "execution_count": null,
   "metadata": {},
   "outputs": [],
   "source": [
    "print('Smallest multiple of 10 at least as big as 10', while_demo(10))\n",
    "print('Smallest multiple of 10 at least as big as 11', while_demo(11))"
   ]
  },
  {
   "cell_type": "code",
   "execution_count": null,
   "metadata": {},
   "outputs": [],
   "source": [
    "def for_demo(input_int):\n",
    "    \"\"\"\n",
    "    :param input_int: integer\n",
    "    :return: sum of all integers from 1 to input_int, inclusive\n",
    "    \"\"\"\n",
    "    the_sum = 0\n",
    "    for current_int in range(1,input_int + 1):\n",
    "        the_sum = the_sum + current_int\n",
    "\n",
    "    return the_sum"
   ]
  },
  {
   "cell_type": "code",
   "execution_count": null,
   "metadata": {},
   "outputs": [],
   "source": [
    "end_int = 4\n",
    "print(f'Sum of integers from 1 to {end_int}: {for_demo(end_int)}')\n",
    "print('Sum of integers from 1 to', end_int, ':', for_demo(end_int))"
   ]
  },
  {
   "cell_type": "code",
   "execution_count": null,
   "metadata": {},
   "outputs": [],
   "source": [
    "def is_prime(input_int):\n",
    "    \"\"\"\n",
    "    :param input_int: integer\n",
    "    :return: True if test_int is prime. False, otherwise.\n",
    "    \"\"\"\n",
    "    for test_divisor in range(2, input_int):\n",
    "        print(test_divisor)\n",
    "        if input_int % test_divisor == 0:\n",
    "            return False\n",
    "\n",
    "    return True"
   ]
  },
  {
   "cell_type": "code",
   "execution_count": null,
   "metadata": {},
   "outputs": [],
   "source": [
    "print('10 is prime:', is_prime(10))\n",
    "print('5 is prime:', is_prime(5))"
   ]
  }
 ],
 "metadata": {
  "kernelspec": {
   "display_name": "Python 3",
   "language": "python",
   "name": "python3"
  },
  "language_info": {
   "codemirror_mode": {
    "name": "ipython",
    "version": 3
   },
   "file_extension": ".py",
   "mimetype": "text/x-python",
   "name": "python",
   "nbconvert_exporter": "python",
   "pygments_lexer": "ipython3",
   "version": "3.12.1"
  }
 },
 "nbformat": 4,
 "nbformat_minor": 2
}
