{
 "cells": [
  {
   "cell_type": "markdown",
   "id": "dda0df30",
   "metadata": {},
   "source": [
    "A perfect number is a number that is the sum of its proper divisors. For example, the number 28 is perfect because 28 = 1 + 2 + 4 + 7 + 14. \n",
    "\n",
    "**Write a function is_perfect(input_int) that returns True if input_int is perfect and False otherwise. I recommend using a for loop to loop over range(1, input_int), summing all the divisors of input_int, and checking whether that sum is equal to input_int.**\n",
    "\n",
    "Submit the following proof of your code's correctness:\n",
    "is_perfect(100) returns False\n",
    "is_perfect(496) returns True\n",
    "\n",
    "The least common multiple of two integers m and n is equal to the smallest positive integer that is divisible by both m and n. For example, the least common multiple of 4 and 6 is 12, since 12 is divisible by both 4 and 6 and no smaller positive integer has that property. \n",
    "\n",
    "**Write a function lcm(int1, int2) that returns the least common multiple of int1 and int2. I recommend using a while loop to loop forward indefinitely (call the counter in your while loop \"multiple\"). If the current value of multiple is divisible by both int1 and int2, then you can return multiple. Otherwise, you may increment multiple by the larger of int1 and int2 (since such multiples are the only candidates for the least common multiple).**\n",
    "\n",
    "Submit the following proof of your code's correctness:\n",
    "lcm(6, 10) returns 30\n",
    "lcm(3, 10) returns 30\n",
    "lcm(10, 30) returns 30"
   ]
  }
 ],
 "metadata": {
  "language_info": {
   "name": "python"
  }
 },
 "nbformat": 4,
 "nbformat_minor": 5
}
