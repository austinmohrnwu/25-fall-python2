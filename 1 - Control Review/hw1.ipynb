{
 "cells": [
  {
   "cell_type": "markdown",
   "id": "952eb621",
   "metadata": {},
   "source": [
    "## Homework 1"
   ]
  },
  {
   "cell_type": "code",
   "execution_count": 24,
   "id": "5bafed47",
   "metadata": {},
   "outputs": [],
   "source": [
    "def is_perfect(input_number):\n",
    "    divisor_total = 0\n",
    "    for test_divisior in range(1, input_number):\n",
    "        if input_number % test_divisior == 0:\n",
    "            divisor_total += test_divisior\n",
    "\n",
    "    if divisor_total == input_number:\n",
    "        return True\n",
    "    else:\n",
    "        return False \n"
   ]
  },
  {
   "cell_type": "code",
   "execution_count": 25,
   "id": "4f3f10fa",
   "metadata": {},
   "outputs": [
    {
     "data": {
      "text/plain": [
       "False"
      ]
     },
     "execution_count": 25,
     "metadata": {},
     "output_type": "execute_result"
    }
   ],
   "source": [
    "is_perfect(100)"
   ]
  },
  {
   "cell_type": "code",
   "execution_count": 26,
   "id": "963c92f0",
   "metadata": {},
   "outputs": [
    {
     "data": {
      "text/plain": [
       "True"
      ]
     },
     "execution_count": 26,
     "metadata": {},
     "output_type": "execute_result"
    }
   ],
   "source": [
    "is_perfect(496)"
   ]
  },
  {
   "cell_type": "code",
   "execution_count": null,
   "id": "11ed40b9",
   "metadata": {},
   "outputs": [],
   "source": []
  },
  {
   "cell_type": "code",
   "execution_count": null,
   "id": "913f9db7",
   "metadata": {},
   "outputs": [],
   "source": [
    "lcm(6, 10)"
   ]
  }
 ],
 "metadata": {
  "kernelspec": {
   "display_name": "Python 3",
   "language": "python",
   "name": "python3"
  },
  "language_info": {
   "codemirror_mode": {
    "name": "ipython",
    "version": 3
   },
   "file_extension": ".py",
   "mimetype": "text/x-python",
   "name": "python",
   "nbconvert_exporter": "python",
   "pygments_lexer": "ipython3",
   "version": "3.12.1"
  }
 },
 "nbformat": 4,
 "nbformat_minor": 5
}
