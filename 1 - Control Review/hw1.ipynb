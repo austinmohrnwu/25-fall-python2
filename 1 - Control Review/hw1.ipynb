{
 "cells": [
  {
   "cell_type": "markdown",
   "id": "dda0df30",
   "metadata": {},
   "source": [
    "A perfect number is a number that is the sum of its proper divisors. For example, the number 28 is perfect because 28 = 1 + 2 + 4 + 7 + 14. \n",
    "\n",
    "**Write a function is_perfect(input_int) that returns True if input_int is perfect and False otherwise. I recommend using a for loop to loop over range(1, input_int), summing all the divisors of input_int, and checking whether that sum is equal to input_int.**\n",
    "\n",
    "Submit the following proof of your code's correctness:\n",
    "is_perfect(100) returns False\n",
    "is_perfect(496) returns True"
   ]
  },
  {
   "cell_type": "code",
   "execution_count": 110,
   "id": "f5ef863c",
   "metadata": {},
   "outputs": [],
   "source": [
    "def is_perfect(input_int):\n",
    "    '''check if a number is perfect\n",
    "    initialize sum and \n",
    "    use for loop to go through integers in range with input_int\n",
    "    if input_int divided by integer in range is not zero\n",
    "    add this integer to the sum\n",
    "    '''\n",
    "    the_sum = 0\n",
    "    for i in range(1, input_int):\n",
    "        if input_int % i == 0:\n",
    "            the_sum += i\n",
    "    return the_sum == input_int"
   ]
  },
  {
   "cell_type": "code",
   "execution_count": 111,
   "id": "311c4692",
   "metadata": {},
   "outputs": [
    {
     "name": "stdout",
     "output_type": "stream",
     "text": [
      "False\n",
      "True\n"
     ]
    }
   ],
   "source": [
    "print(is_perfect(100))\n",
    "print(is_perfect(496))"
   ]
  },
  {
   "cell_type": "markdown",
   "id": "e21fb4c5",
   "metadata": {},
   "source": [
    "The least common multiple of two integers m and n is equal to the smallest positive integer that is divisible by both m and n. For example, the least common multiple of 4 and 6 is 12, since 12 is divisible by both 4 and 6 and no smaller positive integer has that property. \n",
    "\n",
    "**Write a function lcm(int1, int2) that returns the least common multiple of int1 and int2. I recommend using a while loop to loop forward indefinitely (call the counter in your while loop \"multiple\"). If the current value of multiple is divisible by both int1 and int2, then you can return multiple. Otherwise, you may increment multiple by the larger of int1 and int2 (since such multiples are the only candidates for the least common multiple).**\n",
    "\n",
    "Submit the following proof of your code's correctness:\n",
    "lcm(6, 10) returns 30\n",
    "lcm(3, 10) returns 30\n",
    "lcm(10, 30) returns 30"
   ]
  },
  {
   "cell_type": "code",
   "execution_count": 112,
   "id": "96564006",
   "metadata": {},
   "outputs": [],
   "source": [
    "def lcm(int1, int2):\n",
    "    multiple = max(int1, int2)\n",
    "    while True:\n",
    "        if multiple % int1 == 0 and multiple % int2 == 0:\n",
    "            return multiple\n",
    "        multiple += max(int1, int2)"
   ]
  },
  {
   "cell_type": "code",
   "execution_count": 113,
   "id": "15d436cf",
   "metadata": {},
   "outputs": [
    {
     "name": "stdout",
     "output_type": "stream",
     "text": [
      "30\n",
      "30\n",
      "30\n"
     ]
    }
   ],
   "source": [
    "print(lcm(6, 10))    \n",
    "print(lcm(3, 10))    \n",
    "print(lcm(10, 30))"
   ]
  }
 ],
 "metadata": {
  "kernelspec": {
   "display_name": "Python 3",
   "language": "python",
   "name": "python3"
  },
  "language_info": {
   "codemirror_mode": {
    "name": "ipython",
    "version": 3
   },
   "file_extension": ".py",
   "mimetype": "text/x-python",
   "name": "python",
   "nbconvert_exporter": "python",
   "pygments_lexer": "ipython3",
   "version": "3.12.1"
  }
 },
 "nbformat": 4,
 "nbformat_minor": 5
}
