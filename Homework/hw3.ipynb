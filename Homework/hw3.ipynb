{
 "cells": [
  {
   "cell_type": "code",
   "execution_count": 28,
   "id": "76f7406d",
   "metadata": {},
   "outputs": [],
   "source": [
    "def histogram(string_list):\n",
    "    hist = {}\n",
    "    for word in string_list:\n",
    "        if word in hist:\n",
    "            hist[word] += 1  \n",
    "        else:\n",
    "            hist[word] = 1    \n",
    "    return hist\n",
    "\n",
    "def anagrams(input_string):\n",
    "    input_hist = histogram(input_string.strip())\n",
    "    results = []\n",
    "\n",
    "    with open('words.txt', 'r') as read_file:\n",
    "        for line in read_file:\n",
    "            word = line.strip()\n",
    "            if histogram(word) == input_hist:\n",
    "                results.append(word)\n",
    "    \n",
    "    with open('anagrams_outputs.txt', 'w') as write_file:\n",
    "        for word in results:\n",
    "            write_file.write(word + \"\\n\")"
   ]
  },
  {
   "cell_type": "code",
   "execution_count": 30,
   "id": "b1c5899c",
   "metadata": {},
   "outputs": [],
   "source": [
    "anagrams(\"pots\")\n",
    "anagrams(\"resent\")"
   ]
  },
  {
   "cell_type": "code",
   "execution_count": 6,
   "id": "02f8242c",
   "metadata": {},
   "outputs": [],
   "source": [
    "def heteropalindromes():\n",
    "    with open(\"words.txt\") as read_file:\n",
    "        word_list = []\n",
    "        for word in read_file:\n",
    "            word_list.append(word.strip())\n",
    "        words = set(word_list)\n",
    "\n",
    "    results = set()\n",
    "\n",
    "    for word in words:\n",
    "        reverse = word[::-1]\n",
    "        if reverse in words and word != reverse:\n",
    "            if word < reverse:\n",
    "                results.add((word, reverse))\n",
    "            else:\n",
    "                results.add((reverse,word))\n",
    "    print(results)"
   ]
  },
  {
   "cell_type": "code",
   "execution_count": 7,
   "id": "99612cb6",
   "metadata": {},
   "outputs": [
    {
     "name": "stdout",
     "output_type": "stream",
     "text": [
      "{('net', 'ten'), ('struts', 'sturts'), ('ates', 'seta'), ('guls', 'slug'), ('neep', 'peen'), ('burg', 'grub'), ('pas', 'sap'), ('lap', 'pal'), ('devas', 'saved'), ('defer', 'refed'), ('sway', 'yaws'), ('mir', 'rim'), ('os', 'so'), ('taw', 'wat'), ('sloops', 'spools'), ('etas', 'sate'), ('seeks', 'skees'), ('gar', 'rag'), ('las', 'sal'), ('amis', 'sima'), ('eat', 'tae'), ('stows', 'swots'), ('hap', 'pah'), ('repins', 'sniper'), ('macs', 'scam'), ('smuts', 'stums'), ('paw', 'wap'), ('lop', 'pol'), ('cod', 'doc'), ('snot', 'tons'), ('burd', 'drub'), ('marcs', 'scram'), ('snaw', 'wans'), ('trow', 'wort'), ('enol', 'lone'), ('gum', 'mug'), ('dels', 'sled'), ('dormin', 'nimrod'), ('spirt', 'trips'), ('em', 'me'), ('bog', 'gob'), ('moor', 'room'), ('bag', 'gab'), ('bird', 'drib'), ('del', 'led'), ('sow', 'wos'), ('dart', 'trad'), ('puris', 'sirup'), ('edile', 'elide'), ('ervil', 'livre'), ('not', 'ton'), ('redrawer', 'rewarder'), ('got', 'tog'), ('put', 'tup'), ('neves', 'seven'), ('gnats', 'stang'), ('bin', 'nib'), ('duo', 'oud'), ('pals', 'slap'), ('brad', 'darb'), ('pot', 'top'), ('nit', 'tin'), ('dinar', 'ranid'), ('deifier', 'reified'), ('tort', 'trot'), ('now', 'won'), ('daw', 'wad'), ('keep', 'peek'), ('loops', 'spool'), ('loots', 'stool'), ('emits', 'stime'), ('pins', 'snip'), ('pow', 'wop'), ('gnar', 'rang'), ('mus', 'sum'), ('bus', 'sub'), ('even', 'neve'), ('prat', 'tarp'), ('swot', 'tows'), ('lobo', 'obol'), ('redraw', 'warder'), ('ow', 'wo'), ('ergo', 'ogre'), ('part', 'trap'), ('agar', 'raga'), ('tew', 'wet'), ('door', 'rood'), ('bal', 'lab'), ('dim', 'mid'), ('raw', 'war'), ('mot', 'tom'), ('lever', 'revel'), ('ah', 'ha'), ('pus', 'sup'), ('duel', 'leud'), ('lair', 'rial'), ('an', 'na'), ('dor', 'rod'), ('eel', 'lee'), ('gnus', 'sung'), ('diaper', 'repaid'), ('six', 'xis'), ('ay', 'ya'), ('pis', 'sip'), ('bis', 'sib'), ('relit', 'tiler'), ('gas', 'sag'), ('recaps', 'spacer'), ('flow', 'wolf'), ('slit', 'tils'), ('brag', 'garb'), ('emit', 'time'), ('anon', 'nona'), ('get', 'teg'), ('loop', 'pool'), ('lin', 'nil'), ('bos', 'sob'), ('dah', 'had'), ('dap', 'pad'), ('ajar', 'raja'), ('buts', 'stub'), ('gan', 'nag'), ('ad', 'da'), ('swat', 'taws'), ('ares', 'sera'), ('sprits', 'stirps'), ('parts', 'strap'), ('animal', 'lamina'), ('sports', 'strops'), ('looter', 'retool'), ('sit', 'tis'), ('aider', 'redia'), ('mils', 'slim'), ('alif', 'fila'), ('knar', 'rank'), ('snoops', 'spoons'), ('stow', 'wots'), ('rot', 'tor'), ('lager', 'regal'), ('loot', 'tool'), ('remit', 'timer'), ('hahs', 'shah'), ('er', 're'), ('bas', 'sab'), ('delf', 'fled'), ('bun', 'nub'), ('pay', 'yap'), ('deke', 'eked'), ('rat', 'tar'), ('levins', 'snivel'), ('hay', 'yah'), ('sleets', 'steels'), ('ducs', 'scud'), ('airts', 'stria'), ('diols', 'sloid'), ('lees', 'seel'), ('pees', 'seep'), ('avo', 'ova'), ('spat', 'taps'), ('peels', 'sleep'), ('pat', 'tap'), ('pit', 'tip'), ('emir', 'rime'), ('hoop', 'pooh'), ('sallets', 'stellas'), ('dray', 'yard'), ('bed', 'deb'), ('elides', 'sedile'), ('deem', 'meed'), ('spot', 'tops'), ('desserts', 'stressed'), ('tav', 'vat'), ('is', 'si'), ('eros', 'sore'), ('bad', 'dab'), ('gut', 'tug'), ('nap', 'pan'), ('new', 'wen'), ('edit', 'tide'), ('it', 'ti'), ('jar', 'raj'), ('cap', 'pac'), ('ben', 'neb'), ('mart', 'tram'), ('drail', 'liard'), ('pols', 'slop'), ('poons', 'snoop'), ('mar', 'ram'), ('keels', 'sleek'), ('lit', 'til'), ('draws', 'sward'), ('bats', 'stab'), ('snow', 'wons'), ('dialer', 'relaid'), ('maes', 'seam'), ('liar', 'rail'), ('guns', 'snug'), ('reflet', 'telfer'), ('smart', 'trams'), ('don', 'nod'), ('sprat', 'tarps'), ('bat', 'tab'), ('tow', 'wot'), ('deep', 'peed'), ('deeps', 'speed'), ('spit', 'tips'), ('abut', 'tuba'), ('meet', 'teem'), ('paws', 'swap'), ('remeet', 'teemer'), ('redes', 'seder'), ('rebus', 'suber'), ('dig', 'gid'), ('denim', 'mined'), ('ports', 'strop'), ('mho', 'ohm'), ('snoot', 'toons'), ('notes', 'seton'), ('keets', 'steek'), ('animes', 'semina'), ('deliver', 'reviled'), ('auks', 'skua'), ('nut', 'tun'), ('bins', 'snib'), ('ate', 'eta'), ('eh', 'he'), ('leets', 'steel'), ('bur', 'rub'), ('big', 'gib'), ('nip', 'pin'), ('but', 'tub'), ('pots', 'stop'), ('denier', 'reined'), ('denies', 'seined'), ('mat', 'tam'), ('deer', 'reed'), ('lares', 'seral'), ('redips', 'spider'), ('loom', 'mool'), ('eviler', 'relive'), ('loons', 'snool'), ('girt', 'trig'), ('rebut', 'tuber'), ('arum', 'mura'), ('devil', 'lived'), ('pupils', 'slipup'), ('gnat', 'tang'), ('snaws', 'swans'), ('dial', 'laid'), ('skeets', 'steeks'), ('pows', 'swop'), ('larum', 'mural'), ('secret', 'terces'), ('dirts', 'strid'), ('pacer', 'recap'), ('saps', 'spas'), ('ho', 'oh'), ('amen', 'nema'), ('habus', 'subah'), ('cud', 'duc'), ('degami', 'imaged'), ('debut', 'tubed'), ('ban', 'nab'), ('dos', 'sod'), ('snaps', 'spans'), ('buns', 'snub'), ('bard', 'drab'), ('oohs', 'shoo'), ('pans', 'snap'), ('nuts', 'stun'), ('am', 'ma'), ('agenes', 'senega'), ('doom', 'mood'), ('dam', 'mad'), ('do', 'od'), ('derat', 'tared'), ('bows', 'swob'), ('nu', 'un'), ('bid', 'dib'), ('reflow', 'wolfer'), ('ray', 'yar'), ('leer', 'reel'), ('maws', 'swam'), ('namer', 'reman'), ('nus', 'sun'), ('hales', 'selah'), ('skips', 'spiks'), ('rennet', 'tenner'), ('no', 'on'), ('gat', 'tag'), ('raps', 'spar'), ('meter', 'retem'), ('dees', 'seed'), ('oot', 'too'), ('dahs', 'shad'), ('dewans', 'snawed'), ('straw', 'warts'), ('snit', 'tins'), ('par', 'rap'), ('may', 'yam'), ('nos', 'son'), ('aril', 'lira'), ('anger', 'regna'), ('dup', 'pud'), ('spay', 'yaps'), ('cam', 'mac'), ('depot', 'toped'), ('nolos', 'solon'), ('hop', 'poh'), ('gums', 'smug'), ('mon', 'nom'), ('map', 'pam'), ('scares', 'seracs'), ('gnaws', 'swang'), ('fool', 'loof'), ('pets', 'step'), ('cram', 'marc'), ('draw', 'ward'), ('hey', 'yeh'), ('oat', 'tao'), ('flog', 'golf'), ('at', 'ta'), ('kips', 'spik'), ('gals', 'slag'), ('knits', 'stink'), ('deil', 'lied'), ('gulp', 'plug'), ('bots', 'stob'), ('sleeps', 'speels'), ('knaps', 'spank'), ('port', 'trop'), ('drawer', 'reward'), ('snips', 'spins'), ('gal', 'lag'), ('per', 'rep'), ('fires', 'serif'), ('agas', 'saga'), ('keel', 'leek'), ('dedal', 'laded'), ('fer', 'ref'), ('gats', 'stag'), ('bud', 'dub'), ('sirs', 'sris'), ('gel', 'leg'), ('demit', 'timed'), ('lion', 'noil'), ('arris', 'sirra'), ('leper', 'repel'), ('dew', 'wed'), ('sat', 'tas'), ('dessert', 'tressed'), ('saw', 'was'), ('dot', 'tod'), ('stew', 'wets'), ('pools', 'sloop'), ('dag', 'gad'), ('dups', 'spud'), ('dom', 'mod'), ('ante', 'etna'), ('dens', 'sned'), ('moot', 'toom'), ('cares', 'serac'), ('dual', 'laud'), ('way', 'yaw'), ('ados', 'soda'), ('gam', 'mag'), ('decal', 'laced'), ('reknit', 'tinker'), ('muts', 'stum'), ('are', 'era'), ('staw', 'wats'), ('spots', 'stops'), ('emes', 'seme'), ('derats', 'stared'), ('evil', 'live'), ('avid', 'diva'), ('mis', 'sim'), ('res', 'ser'), ('gul', 'lug'), ('rees', 'seer'), ('strow', 'worts'), ('depots', 'stoped'), ('lotos', 'sotol'), ('kay', 'yak'), ('dexes', 'sexed'), ('spirts', 'strips'), ('mures', 'serum'), ('reknits', 'stinker'), ('rats', 'star'), ('gip', 'pig'), ('bals', 'slab'), ('selahs', 'shales'), ('naps', 'span'), ('nips', 'spin'), ('dorp', 'prod'), ('gelder', 'redleg'), ('dog', 'god')}\n"
     ]
    }
   ],
   "source": [
    "heteropalindromes()"
   ]
  },
  {
   "cell_type": "code",
   "execution_count": null,
   "id": "4511f6b5",
   "metadata": {},
   "outputs": [],
   "source": []
  }
 ],
 "metadata": {
  "kernelspec": {
   "display_name": "Python 3",
   "language": "python",
   "name": "python3"
  },
  "language_info": {
   "codemirror_mode": {
    "name": "ipython",
    "version": 3
   },
   "file_extension": ".py",
   "mimetype": "text/x-python",
   "name": "python",
   "nbconvert_exporter": "python",
   "pygments_lexer": "ipython3",
   "version": "3.12.1"
  }
 },
 "nbformat": 4,
 "nbformat_minor": 5
}
