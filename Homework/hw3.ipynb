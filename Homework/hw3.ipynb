{
 "cells": [
  {
   "cell_type": "code",
   "execution_count": 28,
   "id": "76f7406d",
   "metadata": {},
   "outputs": [],
   "source": [
    "def histogram(string_list):\n",
    "    hist = {}\n",
    "    for word in string_list:\n",
    "        if word in hist:\n",
    "            hist[word] += 1  \n",
    "        else:\n",
    "            hist[word] = 1    \n",
    "    return hist\n",
    "\n",
    "def anagrams(input_string):\n",
    "    input_hist = histogram(input_string.strip())\n",
    "    results = []\n",
    "\n",
    "    with open('words.txt', 'r') as read_file:\n",
    "        for line in read_file:\n",
    "            word = line.strip()\n",
    "            if histogram(word) == input_hist:\n",
    "                results.append(word)\n",
    "    \n",
    "    with open('anagrams_outputs.txt', 'w') as write_file:\n",
    "        for word in results:\n",
    "            write_file.write(word + \"\\n\")"
   ]
  },
  {
   "cell_type": "code",
   "execution_count": 30,
   "id": "b1c5899c",
   "metadata": {},
   "outputs": [],
   "source": [
    "anagrams(\"pots\")\n",
    "anagrams(\"resent\")"
   ]
  },
  {
   "cell_type": "code",
   "execution_count": null,
   "id": "02f8242c",
   "metadata": {},
   "outputs": [],
   "source": []
  }
 ],
 "metadata": {
  "kernelspec": {
   "display_name": "Python 3",
   "language": "python",
   "name": "python3"
  },
  "language_info": {
   "codemirror_mode": {
    "name": "ipython",
    "version": 3
   },
   "file_extension": ".py",
   "mimetype": "text/x-python",
   "name": "python",
   "nbconvert_exporter": "python",
   "pygments_lexer": "ipython3",
   "version": "3.12.1"
  }
 },
 "nbformat": 4,
 "nbformat_minor": 5
}
