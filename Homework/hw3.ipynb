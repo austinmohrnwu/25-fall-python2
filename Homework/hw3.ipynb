{
 "cells": [
  {
   "cell_type": "code",
   "execution_count": 28,
   "id": "76f7406d",
   "metadata": {},
   "outputs": [],
   "source": [
    "def histogram(string_list):\n",
    "    hist = {}\n",
    "    for word in string_list:\n",
    "        if word in hist:\n",
    "            hist[word] += 1  \n",
    "        else:\n",
    "            hist[word] = 1    \n",
    "    return hist\n",
    "\n",
    "def anagrams(input_string):\n",
    "    input_hist = histogram(input_string.strip())\n",
    "    results = []\n",
    "\n",
    "    with open('words.txt', 'r') as read_file:\n",
    "        for line in read_file:\n",
    "            word = line.strip()\n",
    "            if histogram(word) == input_hist:\n",
    "                results.append(word)\n",
    "    \n",
    "    with open('anagrams_outputs.txt', 'w') as write_file:\n",
    "        for word in results:\n",
    "            write_file.write(word + \"\\n\")"
   ]
  },
  {
   "cell_type": "code",
   "execution_count": 30,
   "id": "b1c5899c",
   "metadata": {},
   "outputs": [],
   "source": [
    "anagrams(\"pots\")\n",
    "anagrams(\"resent\")"
   ]
  },
  {
   "cell_type": "code",
   "execution_count": 2,
   "id": "02f8242c",
   "metadata": {},
   "outputs": [],
   "source": [
    "def heteropalindromes():\n",
    "    with open(\"words.txt\") as read_file:\n",
    "        word_list = []\n",
    "        for word in read_file:\n",
    "            word_list.append(word.strip())\n",
    "        words = set(word_list)\n",
    "\n",
    "    results = set()\n",
    "\n",
    "    for word in words:\n",
    "        reverse = word[::-1]\n",
    "        if reverse in words and word != reverse:\n",
    "            if word < reverse:\n",
    "                results.add((word, reverse))\n",
    "            else:\n",
    "                results.add((reverse,word))\n",
    "    print(results)"
   ]
  },
  {
   "cell_type": "code",
   "execution_count": 3,
   "id": "99612cb6",
   "metadata": {},
   "outputs": [
    {
     "name": "stdout",
     "output_type": "stream",
     "text": [
      "{('seeks', 'skees'), ('os', 'so'), ('loops', 'spool'), ('hoop', 'pooh'), ('lion', 'noil'), ('sallets', 'stellas'), ('gas', 'sag'), ('derats', 'stared'), ('gnat', 'tang'), ('dedal', 'laded'), ('buns', 'snub'), ('eh', 'he'), ('lin', 'nil'), ('muts', 'stum'), ('deliver', 'reviled'), ('redrawer', 'rewarder'), ('diols', 'sloid'), ('mat', 'tam'), ('dirts', 'strid'), ('no', 'on'), ('emir', 'rime'), ('nip', 'pin'), ('res', 'ser'), ('dap', 'pad'), ('dinar', 'ranid'), ('ben', 'neb'), ('guns', 'snug'), ('bos', 'sob'), ('dial', 'laid'), ('enol', 'lone'), ('nus', 'sun'), ('redraw', 'warder'), ('not', 'ton'), ('lager', 'regal'), ('depot', 'toped'), ('now', 'won'), ('pets', 'step'), ('sprits', 'stirps'), ('sprat', 'tarps'), ('bud', 'dub'), ('don', 'nod'), ('reknit', 'tinker'), ('avid', 'diva'), ('anon', 'nona'), ('sirs', 'sris'), ('leets', 'steel'), ('spit', 'tips'), ('cram', 'marc'), ('raps', 'spar'), ('drawer', 'reward'), ('airts', 'stria'), ('even', 'neve'), ('mils', 'slim'), ('stows', 'swots'), ('pacer', 'recap'), ('ante', 'etna'), ('rebus', 'suber'), ('aril', 'lira'), ('habus', 'subah'), ('draws', 'sward'), ('skips', 'spiks'), ('del', 'led'), ('snoot', 'toons'), ('snow', 'wons'), ('anger', 'regna'), ('bal', 'lab'), ('nit', 'tin'), ('edile', 'elide'), ('gam', 'mag'), ('dim', 'mid'), ('fer', 'ref'), ('ports', 'strop'), ('pows', 'swop'), ('nolos', 'solon'), ('elides', 'sedile'), ('devil', 'lived'), ('dot', 'tod'), ('lever', 'revel'), ('naps', 'span'), ('brad', 'darb'), ('marcs', 'scram'), ('demit', 'timed'), ('struts', 'sturts'), ('meter', 'retem'), ('brag', 'garb'), ('deke', 'eked'), ('sports', 'strops'), ('hop', 'poh'), ('dels', 'sled'), ('snaps', 'spans'), ('pupils', 'slipup'), ('loot', 'tool'), ('bins', 'snib'), ('dens', 'sned'), ('spot', 'tops'), ('loop', 'pool'), ('neves', 'seven'), ('lobo', 'obol'), ('emes', 'seme'), ('bed', 'deb'), ('notes', 'seton'), ('alif', 'fila'), ('keets', 'steek'), ('relit', 'tiler'), ('deem', 'meed'), ('pees', 'seep'), ('gals', 'slag'), ('flog', 'golf'), ('port', 'trop'), ('spay', 'yaps'), ('bots', 'stob'), ('ducs', 'scud'), ('gnus', 'sung'), ('sleeps', 'speels'), ('las', 'sal'), ('lop', 'pol'), ('daw', 'wad'), ('denies', 'seined'), ('hap', 'pah'), ('knaps', 'spank'), ('bis', 'sib'), ('ah', 'ha'), ('saw', 'was'), ('staw', 'wats'), ('slit', 'tils'), ('trow', 'wort'), ('em', 'me'), ('redes', 'seder'), ('denim', 'mined'), ('tort', 'trot'), ('reflet', 'telfer'), ('tew', 'wet'), ('sway', 'yaws'), ('eviler', 'relive'), ('gip', 'pig'), ('keep', 'peek'), ('bad', 'dab'), ('devas', 'saved'), ('dor', 'rod'), ('knar', 'rank'), ('hales', 'selah'), ('gnats', 'stang'), ('saps', 'spas'), ('dog', 'god'), ('drail', 'liard'), ('mures', 'serum'), ('neep', 'peen'), ('deeps', 'speed'), ('lotos', 'sotol'), ('poons', 'snoop'), ('redips', 'spider'), ('pols', 'slop'), ('moor', 'room'), ('hay', 'yah'), ('do', 'od'), ('sat', 'tas'), ('bur', 'rub'), ('parts', 'strap'), ('dexes', 'sexed'), ('gum', 'mug'), ('gats', 'stag'), ('er', 're'), ('bid', 'dib'), ('deil', 'lied'), ('net', 'ten'), ('snips', 'spins'), ('nuts', 'stun'), ('edit', 'tide'), ('pus', 'sup'), ('may', 'yam'), ('cares', 'serac'), ('mis', 'sim'), ('ados', 'soda'), ('stow', 'wots'), ('avo', 'ova'), ('etas', 'sate'), ('nos', 'son'), ('oot', 'too'), ('rebut', 'tuber'), ('denier', 'reined'), ('animal', 'lamina'), ('dag', 'gad'), ('agenes', 'senega'), ('at', 'ta'), ('defer', 'refed'), ('snaws', 'swans'), ('keels', 'sleek'), ('hahs', 'shah'), ('draw', 'ward'), ('stew', 'wets'), ('larum', 'mural'), ('burg', 'grub'), ('ates', 'seta'), ('secret', 'terces'), ('cud', 'duc'), ('arris', 'sirra'), ('gut', 'tug'), ('buts', 'stub'), ('agas', 'saga'), ('delf', 'fled'), ('taw', 'wat'), ('raw', 'war'), ('pas', 'sap'), ('gnar', 'rang'), ('dup', 'pud'), ('rees', 'seer'), ('an', 'na'), ('snaw', 'wans'), ('mar', 'ram'), ('snoops', 'spoons'), ('smuts', 'stums'), ('degami', 'imaged'), ('dahs', 'shad'), ('keel', 'leek'), ('ow', 'wo'), ('reflow', 'wolfer'), ('gnaws', 'swang'), ('dewans', 'snawed'), ('dew', 'wed'), ('par', 'rap'), ('pins', 'snip'), ('mir', 'rim'), ('liar', 'rail'), ('peels', 'sleep'), ('gar', 'rag'), ('paw', 'wap'), ('pans', 'snap'), ('pow', 'wop'), ('emit', 'time'), ('gulp', 'plug'), ('dual', 'laud'), ('depots', 'stoped'), ('pay', 'yap'), ('am', 'ma'), ('mho', 'ohm'), ('deep', 'peed'), ('loots', 'stool'), ('loons', 'snool'), ('amen', 'nema'), ('mot', 'tom'), ('ad', 'da'), ('loom', 'mool'), ('duel', 'leud'), ('tow', 'wot'), ('ay', 'ya'), ('spots', 'stops'), ('doom', 'mood'), ('ate', 'eta'), ('dah', 'had'), ('pot', 'top'), ('decal', 'laced'), ('rats', 'star'), ('spirt', 'trips'), ('desserts', 'stressed'), ('knits', 'stink'), ('bog', 'gob'), ('gelder', 'redleg'), ('pots', 'stop'), ('ares', 'sera'), ('agar', 'raga'), ('rot', 'tor'), ('lit', 'til'), ('fool', 'loof'), ('way', 'yaw'), ('get', 'teg'), ('gan', 'nag'), ('door', 'rood'), ('bats', 'stab'), ('paws', 'swap'), ('lares', 'seral'), ('animes', 'semina'), ('swot', 'tows'), ('pools', 'sloop'), ('ban', 'nab'), ('gul', 'lug'), ('snot', 'tons'), ('pat', 'tap'), ('oat', 'tao'), ('leper', 'repel'), ('dessert', 'tressed'), ('evil', 'live'), ('deer', 'reed'), ('bals', 'slab'), ('six', 'xis'), ('guls', 'slug'), ('bag', 'gab'), ('smart', 'trams'), ('moot', 'toom'), ('sow', 'wos'), ('strow', 'worts'), ('dos', 'sod'), ('nap', 'pan'), ('per', 'rep'), ('sleets', 'steels'), ('pit', 'tip'), ('fires', 'serif'), ('nut', 'tun'), ('snit', 'tins'), ('rat', 'tar'), ('maes', 'seam'), ('recaps', 'spacer'), ('amis', 'sima'), ('hey', 'yeh'), ('dray', 'yard'), ('pals', 'slap'), ('skeets', 'steeks'), ('lees', 'seel'), ('big', 'gib'), ('dups', 'spud'), ('meet', 'teem'), ('looter', 'retool'), ('derat', 'tared'), ('deifier', 'reified'), ('bin', 'nib'), ('flow', 'wolf'), ('sloops', 'spools'), ('eat', 'tae'), ('tav', 'vat'), ('eros', 'sore'), ('gums', 'smug'), ('ervil', 'livre'), ('leer', 'reel'), ('are', 'era'), ('cap', 'pac'), ('selahs', 'shales'), ('gat', 'tag'), ('reknits', 'stinker'), ('dam', 'mad'), ('auks', 'skua'), ('mart', 'tram'), ('oohs', 'shoo'), ('abut', 'tuba'), ('eel', 'lee'), ('dormin', 'nimrod'), ('prat', 'tarp'), ('scares', 'seracs'), ('levins', 'snivel'), ('namer', 'reman'), ('gel', 'leg'), ('got', 'tog'), ('bat', 'tab'), ('bows', 'swob'), ('is', 'si'), ('pis', 'sip'), ('bas', 'sab'), ('macs', 'scam'), ('but', 'tub'), ('jar', 'raj'), ('nu', 'un'), ('sit', 'tis'), ('burd', 'drub'), ('emits', 'stime'), ('debut', 'tubed'), ('aider', 'redia'), ('cod', 'doc'), ('spirts', 'strips'), ('swat', 'taws'), ('dom', 'mod'), ('remit', 'timer'), ('bard', 'drab'), ('duo', 'oud'), ('ergo', 'ogre'), ('diaper', 'repaid'), ('repins', 'sniper'), ('spat', 'taps'), ('ho', 'oh'), ('map', 'pam'), ('dig', 'gid'), ('lap', 'pal'), ('straw', 'warts'), ('ajar', 'raja'), ('ray', 'yar'), ('bird', 'drib'), ('it', 'ti'), ('mon', 'nom'), ('bun', 'nub'), ('maws', 'swam'), ('put', 'tup'), ('dorp', 'prod'), ('dialer', 'relaid'), ('arum', 'mura'), ('nips', 'spin'), ('remeet', 'teemer'), ('new', 'wen'), ('kips', 'spik'), ('mus', 'sum'), ('lair', 'rial'), ('kay', 'yak'), ('girt', 'trig'), ('bus', 'sub'), ('dart', 'trad'), ('dees', 'seed'), ('cam', 'mac'), ('gal', 'lag'), ('puris', 'sirup'), ('rennet', 'tenner'), ('part', 'trap')}\n"
     ]
    }
   ],
   "source": [
    "heteropalindromes()"
   ]
  }
 ],
 "metadata": {
  "kernelspec": {
   "display_name": "Python 3",
   "language": "python",
   "name": "python3"
  },
  "language_info": {
   "codemirror_mode": {
    "name": "ipython",
    "version": 3
   },
   "file_extension": ".py",
   "mimetype": "text/x-python",
   "name": "python",
   "nbconvert_exporter": "python",
   "pygments_lexer": "ipython3",
   "version": "3.12.1"
  }
 },
 "nbformat": 4,
 "nbformat_minor": 5
}
