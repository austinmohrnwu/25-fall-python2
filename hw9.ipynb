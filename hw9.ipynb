{
 "cells": [
  {
   "cell_type": "markdown",
   "id": "2fd36a85",
   "metadata": {},
   "source": [
    "**Generating Tilings**\n",
    "\n",
    "- Write a function generate_tilings(partial_tiling, length) that generates tilings as described in Project Euler #117Links to an external site..\n",
    "partial_tiling is a list representing the tiling you are currently building (like partial_perm in the permutation example). I recommend using integers to represent the tiles: Black is 1, Red is 2, Green is 3, and Blue is 4\n",
    "- length is the length of the desired tiling\n",
    "- You may store solutions in a global variable (like in the permutation example)\n",
    "- The order of the tiles matters: [Black, Black, Red], [Black, Red, Black], and [Red, Black, Black] are all different solutions. Using the representation I suggested above, these would be [1, 1, 2], [1, 2, 1], and [2, 1, 1].\n",
    "- To keep backtracking efficient, its important not to explore branches of the search space that cannot yield solutions.\n",
    "- Suppose partial_tiling is [1, 2] and target is 5. It makes sense to explore the partial tilings [1, 2, 1] and [1, 2, 2], since these might be extended into solutions. The partial tilings [1, 2, 3] and [1, 2, 4] already exceed the target length, so they will not yield solutions.\n",
    "- I think a readable way to structure your code is as follows. It keeps the logic clean and discards large partial tilings early in the recursion. The Python command sumLinks to an external site. will be useful here.\n",
    "sum = sum of partial_tiling\n",
    "IF sum equals length\n",
    "    write partial_tiling to global list\n",
    "ELIF sum less than length\n",
    "    make recursive calls\n",
    " \n",
    "\n",
    "**Subset Sum**\n",
    "\n",
    "*The following is a version of the Subset Sum ProblemLinks to an external site.:*\n",
    "\n",
    "- Inputs: a list L of distinct, positive integers and an integer T (the target)\n",
    "- Output: all nonredundant sublists of L that sum to T\n",
    "- For example, if L = [1, 2, 3, 4, 5] and T = 5, then the solutions are [1, 4], [2, 3], and [5].\n",
    "\n",
    "- Write a function called subset_sum(partial_sum, remaining_ints, target) that uses backtracking to solve the version of the Subset Sum Problem described above.\n",
    "partial_sum is a list representing the sum you are currently building (like partial_perm in the permutation example)\n",
    "remaining_ints is the list of remaining integers that can be used to continue building the sum (like remaining_chars in the permutation example)\n",
    "target is how much you still need to add to reach the T in the problem statement\n",
    "- You may store solutions in a global variable (like in permutation example)\n",
    "Unlike the tiling problem, the order of the summands does not distinguish solutions in Subset Sum (e.g., [1, 4] is the same solution as [4, 1]). A good way to avoid redundant solutions is to make sure your lists are in nondecreasing order by throwing away integers that are too small to consider before making a recursive call. Here's an example: Suppose my initial call is subset_sum([], [1, 2, 3], 4). The top-level recursive calls would be subset_sum([1], [2, 3], 3), subset_sum([2], [3], 2), and subset_sum([3], [], 1).\n",
    "- You will encounter strange behavior if you modify a list as you loop over it. See the example on Github.\n",
    "- As with the colored blocks problem, your code will be more efficient if you do not continue expand upon partial sums that already exceed the target.\n",
    " \n",
    "\n",
    "**Submission**\n",
    "\n",
    "- Export your notebook containing pseudocode for both functions and the output of the following test cases:\n",
    "generate_tilings([], 4) generates [1, 1, 1, 1], [1, 1, 2], [1, 2, 1], [2, 1, 1], [1, 3], [2, 2], [3, 1], and [4] (not necessarily in that order)\n",
    "subset_sum([], [1, 2, 3, 4, 5, 6, 7], 6) generates [1, 2, 3], [2, 4], [1, 5], and [6] (not necessarily in that order)\n",
    " "
   ]
  },
  {
   "cell_type": "code",
   "execution_count": null,
   "id": "d932fd6b",
   "metadata": {},
   "outputs": [],
   "source": [
    "def generate_tilings():\n",
    "    pass"
   ]
  },
  {
   "cell_type": "code",
   "execution_count": null,
   "id": "d7ea2084",
   "metadata": {},
   "outputs": [],
   "source": [
    "def subset_sum():\n",
    "    pass"
   ]
  },
  {
   "cell_type": "code",
   "execution_count": null,
   "id": "ee4715e9",
   "metadata": {},
   "outputs": [],
   "source": [
    "generate_tilings([], 4)\n",
    "subset_sum([], [1, 2, 3, 4, 5, 6, 7], 6)"
   ]
  }
 ],
 "metadata": {
  "language_info": {
   "name": "python"
  }
 },
 "nbformat": 4,
 "nbformat_minor": 5
}
